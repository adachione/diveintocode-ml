{
 "cells": [
  {
   "cell_type": "markdown",
   "metadata": {},
   "source": [
    "# Week2授業課題1 二次元配列と勾配問題"
   ]
  },
  {
   "cell_type": "markdown",
   "metadata": {},
   "source": [
    "## 1.このテキストについて\n",
    "\n",
    "テキストの目的\n",
    "数式演算ライブラリのNumPyに慣れる\n",
    "勾配を求めてみる\n",
    "\n",
    "どのように学ぶか\n",
    "NumPyについていろいろな機能に触れつつ、勾配について学んでいきます。"
   ]
  },
  {
   "cell_type": "markdown",
   "metadata": {},
   "source": [
    "## 2.二次元配列と勾配問題\n",
    "\n",
    "機械学習においては関数の最小値を見つけることが重要になってきます。そのために使われるのが勾配降下法です。\n",
    "\n",
    "\n",
    "この課題では勾配降下法を理解する準備として、NumPyを用いて関数の勾配を考えていきます。"
   ]
  },
  {
   "cell_type": "code",
   "execution_count": 50,
   "metadata": {},
   "outputs": [],
   "source": [
    "import numpy as np\n",
    "import matplotlib.pyplot as plt\n",
    "%matplotlib inline"
   ]
  },
  {
   "cell_type": "markdown",
   "metadata": {},
   "source": [
    "## 【問題1】1次関数\n",
    "$x$ が-50から50の範囲で次の式を考えます。\n",
    "\n",
    "\n",
    "y\n",
    "=\n",
    "1\n",
    "2\n",
    "x\n",
    "+\n",
    "1\n",
    "\n",
    "-50から50まで0.1間隔のxを表すndarrayと、各要素に対するyを表すndarrayを作成してください。\n",
    "\n"
   ]
  },
  {
   "cell_type": "code",
   "execution_count": 51,
   "metadata": {},
   "outputs": [
    {
     "name": "stdout",
     "output_type": "stream",
     "text": [
      "[[-24.  ]\n",
      " [-23.95]\n",
      " [-23.9 ]\n",
      " ...\n",
      " [ 25.9 ]\n",
      " [ 25.95]\n",
      " [ 26.  ]]\n",
      "(1001, 1)\n"
     ]
    }
   ],
   "source": [
    "# 1次関数\n",
    "def primary_func(x):\n",
    "    y = (x / 2) + 1\n",
    "    return y\n",
    "\n",
    "\n",
    "x_min = -50\n",
    "x_max = 50\n",
    "\n",
    "x = np.arange(x_min, x_max + 0.1, 0.1).reshape(1001,1)\n",
    "\n",
    "#print(x)\n",
    "#print(x.shape)\n",
    "y = primary_func(x)\n",
    "print(y)\n",
    "print(y.shape)"
   ]
  },
  {
   "cell_type": "markdown",
   "metadata": {},
   "source": [
    "## 【問題2】配列の結合\n",
    "問題1で作成したndarrayを結合し、(1001, 2)の形の配列にしてください。0列目にx、1列目にyが来るようにします。"
   ]
  },
  {
   "cell_type": "code",
   "execution_count": 52,
   "metadata": {
    "scrolled": true
   },
   "outputs": [
    {
     "name": "stdout",
     "output_type": "stream",
     "text": [
      "[[-50.   -24.  ]\n",
      " [-49.9  -23.95]\n",
      " [-49.8  -23.9 ]\n",
      " ...\n",
      " [ 49.8   25.9 ]\n",
      " [ 49.9   25.95]\n",
      " [ 50.    26.  ]]\n"
     ]
    },
    {
     "data": {
      "text/plain": [
       "(1001, 2)"
      ]
     },
     "execution_count": 52,
     "metadata": {},
     "output_type": "execute_result"
    }
   ],
   "source": [
    "concat_xy = np.concatenate([x, y], axis=1)\n",
    "print(concat_xy)\n",
    "concat_xy.shape"
   ]
  },
  {
   "cell_type": "markdown",
   "metadata": {},
   "source": [
    "## 【問題3】勾配を求める\n",
    "各x座標における勾配を求めます。ここで勾配はyの変化量をxの変化量で割ることで計算します。"
   ]
  },
  {
   "cell_type": "code",
   "execution_count": 53,
   "metadata": {},
   "outputs": [
    {
     "name": "stdout",
     "output_type": "stream",
     "text": [
      "[[0.1  0.05]\n",
      " [0.1  0.05]\n",
      " [0.1  0.05]\n",
      " [0.1  0.05]\n",
      " [0.1  0.05]]\n",
      "[0.5 0.5 0.5 0.5 0.5]\n"
     ]
    }
   ],
   "source": [
    "# 変化量\n",
    "diff = concat_xy[1:] - concat_xy[:-1]\n",
    "print(diff[0:5])\n",
    "\n",
    "# 勾配_yの変化量/xの変化量\n",
    "slope = diff[:,1] / diff[:, 0]\n",
    "print(slope[0:5])"
   ]
  },
  {
   "cell_type": "markdown",
   "metadata": {},
   "source": [
    "## 【問題4】グラフを描く\n",
    "1次関数のグラフをMatplotlibを用いて描いてください。また、それとは別に横軸をx、縦軸を勾配としたグラフも描いてください。\n",
    "\n"
   ]
  },
  {
   "cell_type": "code",
   "execution_count": 54,
   "metadata": {},
   "outputs": [
    {
     "data": {
      "image/png": "[encoded data removed]",
      "text/plain": [
       "<Figure size 432x288 with 1 Axes>"
      ]
     },
     "metadata": {
      "needs_background": "light"
     },
     "output_type": "display_data"
    }
   ],
   "source": [
    "# グラフ描画\n",
    "# 一次関数　xとyの変化図\n",
    "# xと勾配の変化図\n",
    "\n",
    "slope = np.insert(slope, 0, slope[0])  #slope変数をグラフ用に(1000,1)から(1001,1)に整形\n",
    "\n",
    "plt.title(\"primary_func\")\n",
    "plt.xlabel(\"x\")\n",
    "plt.ylabel(\"y\")\n",
    "\n",
    "plt.plot(concat_xy[:, 0], concat_xy[:,1], label=\"xy\")\n",
    "plt.plot(x, slope, label=\"slope\")\n",
    "plt.legend()\n",
    "plt.show()"
   ]
  },
  {
   "cell_type": "markdown",
   "metadata": {},
   "source": [
    "##【問題5】Pythonの関数化\n",
    "\n",
    "問題1から問題3までの範囲をまとめて行うPythonの関数を雛形を参考に作成してください。\n",
    "\n",
    "\n",
    "そして、以下の3式の勾配を0.1間隔で求めてndarrayで出力してください。\n",
    "\n",
    "\n",
    "y\n",
    "=\n",
    "x\n",
    "2\n",
    "(\n",
    "−\n",
    "50\n",
    "≤\n",
    "x\n",
    "≤\n",
    "50\n",
    ")\n",
    "y\n",
    "=\n",
    "2\n",
    "x\n",
    "2\n",
    "+\n",
    "2\n",
    "x\n",
    "(\n",
    "−\n",
    "50\n",
    "≤\n",
    "x\n",
    "≤\n",
    "50\n",
    ")\n",
    "y\n",
    "=\n",
    "s\n",
    "i\n",
    "n\n",
    "(\n",
    "x\n",
    "1\n",
    "2\n",
    ")\n",
    "(\n",
    "0\n",
    "≤\n",
    "x\n",
    "≤\n",
    "50\n",
    ")\n",
    "\n",
    "また、問題4と同様にグラフを描いてください。\n",
    "\n",
    "\n",
    "ndarrayに対して三角関数のsinの計算を行うには np.sin()を用います。\n",
    "\n"
   ]
  },
  {
   "cell_type": "code",
   "execution_count": 61,
   "metadata": {},
   "outputs": [],
   "source": [
    "def compute_gradient(function, x_range=(-50, 50.1, 0.1)):\n",
    "\n",
    "    \"\"\"\n",
    "  変化量を使い勾配を計算する。\n",
    "\n",
    "  Parameters\n",
    "  ----------------\n",
    "  function : function\n",
    "    求めたい関数、xのndarrayを入れるとyのndarrayを返すもの。\n",
    "  x_range : tuple\n",
    "    np.arange()の引数と同じ方法で範囲を指定する。\n",
    "\n",
    "  Returns\n",
    "  ----------------\n",
    "  array_xy : ndarray, shape(n, 2)\n",
    "    xとyを結合したもの。nはx_rangeに依存する。\n",
    "  gradient : ndarray, shape(n-1,)\n",
    "    関数の勾配。差をとるため要素は1つ減る\n",
    "    \"\"\"\n",
    "    \n",
    "    x = np.arange(x_range[0], x_range[1], x_range[2])\n",
    "    y = function\n",
    "    reshape_x = x.reshape(len(x), 1)\n",
    "    reshape_y = y.reshape(len(y), 1)\n",
    "    array_xy = np.concatenate((reshape_x, reshape_y), axis=1)\n",
    "    # print(array_xy)\n",
    "    delta = array_xy[1:] - array_xy[:-1]\n",
    "    gradient = delta[:,1] / delta[:, 0]\n",
    "    \n",
    "    return array_xy, gradient"
   ]
  },
  {
   "cell_type": "code",
   "execution_count": 62,
   "metadata": {},
   "outputs": [
    {
     "data": {
      "image/png": "[encoded data removed]",
      "text/plain": [
       "<Figure size 432x288 with 1 Axes>"
      ]
     },
     "metadata": {
      "needs_background": "light"
     },
     "output_type": "display_data"
    }
   ],
   "source": [
    "# 関数1\n",
    "\n",
    "def function1(array_x):\n",
    "    array_y1 = array_x**2\n",
    "    return array_y1\n",
    "\n",
    "\n",
    "function1 = function1(np.arange(-50, 50.1, 0.1))\n",
    "array_xy_1, gradient_1 = compute_gradient(function1)\n",
    "\n",
    "#print(array_xy)\n",
    "#print(array_xy.shape)\n",
    "#print(gradient)\n",
    "#print(gradient.shape)\n",
    "\n",
    "#gradient変数(1000,1)を(1001,1)に変形\n",
    "reshape_gradient_1 = np.insert(gradient_1, 0, gradient_1[0])\n",
    "\n",
    "# グラフ描画\n",
    "# 関数1\n",
    "plt.title(\"function1\")\n",
    "\n",
    "plt.xlabel(\"x\")\n",
    "plt.ylabel(\"y\")\n",
    "plt.plot(array_xy_1[:, 0], array_xy_1[:, 1], label=\"array\")\n",
    "plt.plot(array_xy_1[:, 0], reshape_gradient_1, label=\"gradient\")\n",
    "plt.legend()\n",
    "plt.show()"
   ]
  },
  {
   "cell_type": "code",
   "execution_count": 63,
   "metadata": {},
   "outputs": [
    {
     "data": {
      "image/png": "[encoded data removed]",
      "text/plain": [
       "<Figure size 432x288 with 1 Axes>"
      ]
     },
     "metadata": {
      "needs_background": "light"
     },
     "output_type": "display_data"
    }
   ],
   "source": [
    "# 関数2\n",
    "\n",
    "def function2(array_x):\n",
    "    array_y2 = (array_x**2)*2 + 2**array_x\n",
    "    return array_y2\n",
    "\n",
    "\n",
    "function2 = function2(np.arange(-50, 50.1, 0.1))\n",
    "array_xy_2, gradient_2 = compute_gradient(function2)\n",
    "\n",
    "#print(array_xy)\n",
    "#print(array_xy.shape)\n",
    "#print(gradient)\n",
    "#print(gradient.shape)\n",
    "\n",
    "#gradient変数(1000,1)を(1001,1)に変形\n",
    "reshape_gradient_2 = np.insert(gradient_2, 0, gradient_2[0])\n",
    "\n",
    "# グラフ描画\n",
    "plt.title(\"function2\")\n",
    "\n",
    "plt.xlabel(\"x\")\n",
    "plt.ylabel(\"y\")\n",
    "plt.plot(array_xy_2[:, 0], array_xy_2[:, 1], label=\"array\")\n",
    "plt.plot(array_xy_2[:, 0], reshape_gradient_2, label=\"gradient\")\n",
    "plt.legend()\n",
    "plt.show()"
   ]
  },
  {
   "cell_type": "code",
   "execution_count": 64,
   "metadata": {},
   "outputs": [
    {
     "data": {
      "image/png": "[encoded data removed]",
      "text/plain": [
       "<Figure size 432x288 with 1 Axes>"
      ]
     },
     "metadata": {
      "needs_background": "light"
     },
     "output_type": "display_data"
    }
   ],
   "source": [
    "# 関数3\n",
    "def function3(array_x):\n",
    "    array_y3 = np.sin(array_x**(2**(-1)))\n",
    "    return array_y3\n",
    "\n",
    "function3 = function3(np.arange(0, 50.1, 0.1))\n",
    "array_xy_3, gradient_3 = compute_gradient(function3, x_range=(0, 50.1, 0.1))\n",
    "\n",
    "#print(array_xy)\n",
    "#print(array_xy.shape)\n",
    "#print(gradient)\n",
    "#print(gradient.shape)\n",
    "\n",
    "#gradient変数(500,1)を(501,1)に変形\n",
    "reshape_gradient_3 = np.insert(gradient_3, 0, gradient_3[0])\n",
    "\n",
    "# グラフ描画\n",
    "plt.title(\"function3\")\n",
    "\n",
    "plt.xlabel(\"x\")\n",
    "plt.ylabel(\"y\")\n",
    "plt.plot(array_xy_3[:, 0], array_xy_3[:, 1], label=\"array\")\n",
    "plt.plot(array_xy_3[:, 0], reshape_gradient_3, label=\"gradient\")\n",
    "plt.legend()\n",
    "plt.show()"
   ]
  },
  {
   "cell_type": "markdown",
   "metadata": {},
   "source": [
    "## 【問題6】最小値を求める\n",
    "問題5で扱った関数のyの最小値を求めます。xの範囲も問題5と同様とします。\n",
    "\n",
    "\n",
    "今回は勾配降下法ではなく、ndarrayのminメソッド、argminメソッドを用いてください。minメソッドは最小値を、argminメソッドは最小値のインデックスを取得することができます。\n",
    "\n",
    "\n",
    "また、最小のyをとる前後の勾配を表示してください。\n",
    "\n",
    "numpy.ndarray.min — NumPy v1.16 Manual\n",
    "\n",
    "\n",
    "numpy.ndarray.argmin — NumPy v1.16 Manual"
   ]
  },
  {
   "cell_type": "code",
   "execution_count": 65,
   "metadata": {},
   "outputs": [
    {
     "name": "stdout",
     "output_type": "stream",
     "text": [
      "function1のyの最小値は500行目の5.048709793414476e-25である\n",
      "function2のyの最小値は498行目の0.9505505632959851である\n",
      "function3のyの最小値は222行目の-0.9999997540298113である\n"
     ]
    }
   ],
   "source": [
    "# 各関数のyの最小値の出力\n",
    "print(\"function1のyの最小値は{}行目の{}である\".format(array_xy_1.argmin(axis=0)[1], array_xy_1.min(axis=0)[1]))\n",
    "print(\"function2のyの最小値は{}行目の{}である\".format(array_xy_2.argmin(axis=0)[1], array_xy_2.min(axis=0)[1]))\n",
    "print(\"function3のyの最小値は{}行目の{}である\".format(array_xy_3.argmin(axis=0)[1], array_xy_3.min(axis=0)[1]))"
   ]
  },
  {
   "cell_type": "code",
   "execution_count": 66,
   "metadata": {},
   "outputs": [
    {
     "name": "stdout",
     "output_type": "stream",
     "text": [
      "[2.50000000e-01 1.60000000e-01 9.00000000e-02 4.00000000e-02\n",
      " 1.00000000e-02 5.04870979e-25 1.00000000e-02 4.00000000e-02\n",
      " 9.00000000e-02 1.60000000e-01]\n",
      "[1.59557221 1.37975396 1.20710678 1.07785828 0.9922524  0.95055056\n",
      " 0.95303299 1.         1.09177346 1.22869835]\n",
      "[-0.99853895 -0.99906088 -0.99946719 -0.9997586  -0.99993587 -0.99999975\n",
      " -0.99995101 -0.9997904  -0.99951869 -0.99913664]\n"
     ]
    }
   ],
   "source": [
    "# 参考に前後10の値を出力し、検査\n",
    "print(array_xy_1[495:505, 1])\n",
    "print(array_xy_2[493:503, 1])\n",
    "print(array_xy_3[217:227, 1])"
   ]
  },
  {
   "cell_type": "markdown",
   "metadata": {},
   "source": [
    "## 参考\n",
    "Numpyのminとargminについて　https://note.nkmk.me/python-numpy-argmax-argmin/\n",
    "\n",
    "## 備忘録\n",
    "作業時間：3.5h"
   ]
  },
  {
   "cell_type": "code",
   "execution_count": null,
   "metadata": {},
   "outputs": [],
   "source": []
  }
 ],
 "metadata": {
  "kernelspec": {
   "display_name": "Python 3",
   "language": "python",
   "name": "python3"
  },
  "language_info": {
   "codemirror_mode": {
    "name": "ipython",
    "version": 3
   },
   "file_extension": ".py",
   "mimetype": "text/x-python",
   "name": "python",
   "nbconvert_exporter": "python",
   "pygments_lexer": "ipython3",
   "version": "3.7.2"
  },
  "nbTranslate": {
   "displayLangs": [
    "*"
   ],
   "hotkey": "alt-t",
   "langInMainMenu": true,
   "sourceLang": "en",
   "targetLang": "fr",
   "useGoogleTranslate": true
  },
  "varInspector": {
   "cols": {
    "lenName": 16,
    "lenType": 16,
    "lenVar": 40
   },
   "kernels_config": {
    "python": {
     "delete_cmd_postfix": "",
     "delete_cmd_prefix": "del ",
     "library": "var_list.py",
     "varRefreshCmd": "print(var_dic_list())"
    },
    "r": {
     "delete_cmd_postfix": ") ",
     "delete_cmd_prefix": "rm(",
     "library": "var_list.r",
     "varRefreshCmd": "cat(var_dic_list()) "
    }
   },
   "types_to_exclude": [
    "module",
    "function",
    "builtin_function_or_method",
    "instance",
    "_Feature"
   ],
   "window_display": true
  }
 },
 "nbformat": 4,
 "nbformat_minor": 2
}
