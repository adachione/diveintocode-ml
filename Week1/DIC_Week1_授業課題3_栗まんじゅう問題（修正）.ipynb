{
 "cells": [
  {
   "cell_type": "markdown",
   "metadata": {},
   "source": [
    "# 2.栗まんじゅう問題\n",
    "\n",
    "漫画ドラえもんには「バイバイン」という道具が登場する、2のn乗に関する有名なエピソード[1]があります。\n",
    "\n",
    "\n",
    "[1] 藤子・Ｆ・不二雄(1979)『ドラえもん（１７）』小学館.\n",
    "\n",
    "\n",
    "「バイバイン」は薬品で、これを振掛けるとその物体は5分ごとに倍に増えるという働きがあります。作中では栗まんじゅうを増やしますが、食べきれなくなったためロケットを使い宇宙に捨てました。\n",
    "\n",
    "\n",
    "ここで度々話題になるのが、栗まんじゅうはその後宇宙でどのように増えていくのかについてです。様々な議論がされていますが、今回は単純に栗まんじゅうの体積がどう増えるかを計算してみましょう。"
   ]
  },
  {
   "cell_type": "markdown",
   "metadata": {},
   "source": [
    "## 【問題】栗まんじゅうが太陽系を覆う日\n",
    "1個の栗まんじゅうにバイバインを振りかけた場合、太陽系が栗まんじゅうで覆われるのは何分後でしょうか。これを計算するプログラムを作成してください。\n",
    "\n",
    "\n",
    "栗まんじゅうや太陽系の体積を調査した上で仮定して計算してください。栗まんじゅうの隙間や重力などは考えず、問題を単純化して構いません。\n",
    "\n",
    "\n",
    "ボールにバイバインを振りかけた時、東京ドームが一杯になる時間など他の状況にも適用できるような汎用的なプログラムを作成してください。また、グラフを表示するなど分かりやすいノートブックを作成してください。"
   ]
  },
  {
   "cell_type": "code",
   "execution_count": 4,
   "metadata": {},
   "outputs": [
    {
     "name": "stdout",
     "output_type": "stream",
     "text": [
      "135\n",
      "\n"
     ]
    }
   ],
   "source": [
    "# 体積一覧　太陽系：地球の1,304,000倍　　　　地球：1０8331978e+9　　東京ドーム：１２４００００\n",
    "# 基準：メートル\n",
    "import math\n",
    "\n",
    "EARTH_VOLUME = 108331978e+9\n",
    "TOKYODOME_VOLUME = 1240000\n",
    "# print(SUN_VOLUME)\n",
    "\n",
    "# 栗の体積　半径５ｃｍとする\n",
    "MARON_VOLUME = 4 * 0.05**3 * math.pi / 3\n",
    "\n",
    "# 太陽系の体積　海王星までの15億ｋｍを半径とする\n",
    "SORAR_SYSTEM_VOLUME = 4 * 1.5e+12 **3 * math.pi / 3\n",
    "\n",
    "cnt = 0\n",
    "\n",
    "while MARON_VOLUME < SORAR_SYSTEM_VOLUME:\n",
    "    MARON_VOLUME *= 2\n",
    "    cnt += 1\n",
    "\n",
    "print(cnt)\n",
    "print()"
   ]
  },
  {
   "cell_type": "code",
   "execution_count": 31,
   "metadata": {},
   "outputs": [
    {
     "name": "stdout",
     "output_type": "stream",
     "text": [
      "バイバインをかけて675分後に太陽系を埋め尽くす\n"
     ]
    }
   ],
   "source": [
    "def baibain(small_volume, big_volume):\n",
    "    cnt = 0\n",
    "    transition_list = []\n",
    "\n",
    "    while small_volume < big_volume:\n",
    "        small_volume *= 2\n",
    "        cnt += 1\n",
    "        transition_list.append(small_volume)\n",
    "        \n",
    "    return cnt, transition_list\n",
    "\n",
    "MARON_VOLUME = 4 * 0.05**3 * math.pi / 3\n",
    "EARTH_VOLUME = 108331978e+9\n",
    "SORAR_SYSTEM_VOLUME = 4 * 1.5e+12 **3 * math.pi / 3\n",
    "TOKYODOME_VOLUME = 1240000\n",
    "BALL_VOLUME = 4 * 0.07**3 * math.pi / 3\n",
    "\n",
    "result, transition_list = baibain(MARON_VOLUME, SORAR_SYSTEM_VOLUME)\n",
    "\n",
    "#print(transition_list)\n",
    "print(\"バイバインをかけて{}分後に太陽系を埋め尽くす\".format(result*5))"
   ]
  },
  {
   "cell_type": "code",
   "execution_count": 33,
   "metadata": {
    "scrolled": true
   },
   "outputs": [
    {
     "data": {
      "image/png": "[encoded data removed]",
      "text/plain": [
       "<Figure size 432x288 with 1 Axes>"
      ]
     },
     "metadata": {
      "needs_background": "light"
     },
     "output_type": "display_data"
    }
   ],
   "source": [
    "# グラフ描画\n",
    "\n",
    "import matplotlib.pyplot as plt\n",
    "%matplotlib inline\n",
    "\n",
    "#minute_list = [x*5 for x in range(len(transition_list))]\n",
    "#print(minute_list)\n",
    "#print(len(minute_list))\n",
    "#minute_list = [50, 100, 150, 200, 250, 300, 350, 400, 450]\n",
    "\n",
    "plt.title(\"baibain\")\n",
    "plt.hlines(SORAR_SYSTEM_VOLUME, 0,150, color=\"orange\")\n",
    "plt.xlabel(\"Minute\")\n",
    "plt.ylabel(\"Volume\")\n",
    "plt.plot(transition_list)\n",
    "# plt.xticks([100,])\n",
    "plt.show()\n"
   ]
  },
  {
   "cell_type": "markdown",
   "metadata": {},
   "source": [
    "# TO:メンターへ\n",
    "\n",
    "最終グラフ描画セルの３〜４行目のコメントアウトしている部分なのですが、\n",
    "minute_list = [x*5 for x in range(len(transition_list))]\n",
    "上記変数式は、cnt（カウント）を5分刻みとしたいため、cntの数だけ＊５をしたリストです。\n",
    "これをグラフのｘ軸にしたかったのですが、うまくはめ込めず。汎用性のないコードになってしまいました。上部のminute_listは太陽系のものしか反映させられません。\n",
    "何かいい方法がありましたらご教示頂けますと幸いです。\n",
    "\n",
    "追記（０７１３_１５：５５）\n",
    "太陽の体積で計算していることに気づき、修正したのですが、描画の部分が試行錯誤してもいい形にならず、アドバイス頂けますと幸いです。"
   ]
  },
  {
   "cell_type": "markdown",
   "metadata": {},
   "source": [
    "# 参考サイト\n",
    "https://kids.gakken.co.jp/kagaku/kagaku110/science0284/#:~:text=%E5%9C%B0%E7%90%83%E3%81%AE%E4%BD%93%E7%A9%8D%E3%81%AF%E3%80%81%E3%81%8A%E3%82%88%E3%81%9D,%E3%81%A7%E3%81%AF8%E5%AF%BE2%E3%81%A7%E3%81%99%E3%80%82\n",
    "地球の体積：地球の体積は、およそ1兆833億1978万km3です。\n",
    "\n",
    "https://ja.wikipedia.org/wiki/%E5%A4%AA%E9%99%BD%E7%B3%BB\n",
    "太陽系の体積は、太陽から海王星までの距離を太陽系の半径とし、球体と仮定して計算した。"
   ]
  },
  {
   "cell_type": "code",
   "execution_count": null,
   "metadata": {},
   "outputs": [],
   "source": []
  }
 ],
 "metadata": {
  "kernelspec": {
   "display_name": "Python 3",
   "language": "python",
   "name": "python3"
  },
  "language_info": {
   "codemirror_mode": {
    "name": "ipython",
    "version": 3
   },
   "file_extension": ".py",
   "mimetype": "text/x-python",
   "name": "python",
   "nbconvert_exporter": "python",
   "pygments_lexer": "ipython3",
   "version": "3.7.2"
  }
 },
 "nbformat": 4,
 "nbformat_minor": 2
}
