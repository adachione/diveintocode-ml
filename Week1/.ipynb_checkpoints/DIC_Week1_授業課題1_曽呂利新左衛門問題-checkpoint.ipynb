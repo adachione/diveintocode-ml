{
 "cells": [
  {
   "cell_type": "markdown",
   "metadata": {},
   "source": [
    "# 曽呂利新左衛門問題"
   ]
  },
  {
   "cell_type": "markdown",
   "metadata": {},
   "source": [
    "## 「Pythonを使ってみよう」の問題で扱った紙を折ると月に届く話に似たものとして、曽呂利新左衛門の逸話があります。これを題材にプログラミングを進めます。秀吉から褒美を下される際、何を希望するか尋ねられた新左衛門は、今日は米1粒、翌日には倍の2粒、その翌日には更に倍の4粒と、日ごとに倍の量の米を100日間もらう事を希望した。米粒なら大した事はないと思った秀吉は簡単に承諾したが、日ごとに倍ずつ増やして行くと100日後には膨大な量になる事に途中で気づき、他の褒美に変えてもらった。\n",
    "\n"
   ]
  },
  {
   "cell_type": "markdown",
   "metadata": {},
   "source": [
    "### 【問題1】100日目の米粒の数\n",
    "100日目には合計で米粒をいくつもらっているのかを計算するコードを作成し、答えを出力してください。また、1日目から100日目までの「その日にもらう米の数」と「その日までに累計で貰う米の数」の推移を折れ線グラフで表現してください。（縦軸が米の数、横軸が日数）"
   ]
  },
  {
   "cell_type": "code",
   "execution_count": 1,
   "metadata": {},
   "outputs": [
    {
     "name": "stdout",
     "output_type": "stream",
     "text": [
      "１００日合計で貰う米の数:2,535,301,200,456,458,802,993,406,410,751\n"
     ]
    },
    {
     "data": {
      "image/png": "[encoded data removed]",
      "text/plain": [
       "<Figure size 432x288 with 1 Axes>"
      ]
     },
     "metadata": {
      "needs_background": "light"
     },
     "output_type": "display_data"
    }
   ],
   "source": [
    "days = 100\n",
    "start_rice = 1\n",
    "rice_list = [start_rice]\n",
    "total_rice = [start_rice]\n",
    "\n",
    "for i in range(days):\n",
    "    rice_list.append(rice_list[-1]*2)\n",
    "    total_rice.append(total_rice[-1] + rice_list[-1])\n",
    "    \n",
    "# print(rice_list)\n",
    "# print(total_rice)\n",
    "\n",
    "print(\"１００日合計で貰う米の数:{:,}\".format(total_rice[-1]))  # 累計でもらう米の数\n",
    "\n",
    "# グラフ描画\n",
    "\n",
    "import matplotlib.pyplot as plt\n",
    "%matplotlib inline\n",
    "\n",
    "plt.title(\"Rice_per_days\")\n",
    "plt.xlabel(\"Days\")\n",
    "plt.ylabel(\"Rice\")\n",
    "\n",
    "plt.plot(rice_list)\n",
    "plt.show()"
   ]
  },
  {
   "cell_type": "markdown",
   "metadata": {},
   "source": [
    "## 【問題2】100日目以外の米粒の数\n",
    "この逸話は30日だったり81日だったりと日数が曖昧です。どの話にも対応できるように日数を引数とした 関数 を作成しましょう。関数を作成した上で、コースを受講する日数の間でいくつ米粒をもらえるかを答えてください。前の問題同様に折れ線グラフも出力してください。\n",
    "\n",
    "\n",
    "以下の雛形には関数としての枠組みだけではなく、引数や返り値についてのコメントも記載してあります。参考にして、自分なりにも分かりやすくコメントを書き換えてください。\n",
    "\n"
   ]
  },
  {
   "cell_type": "code",
   "execution_count": 24,
   "metadata": {},
   "outputs": [
    {
     "name": "stdout",
     "output_type": "stream",
     "text": [
      "受講日64日合計で貰う米の数:36,893,488,147,419,103,231\n"
     ]
    },
    {
     "data": {
      "image/png": "[encoded data removed]",
      "text/plain": [
       "<Figure size 432x288 with 1 Axes>"
      ]
     },
     "metadata": {
      "needs_background": "light"
     },
     "output_type": "display_data"
    }
   ],
   "source": [
    "def compute_sorori_shinzaemon(day=100):\n",
    "    \"\"\"\n",
    "    曽呂利新左衛門の米の逸話を検証する関数。日にちごとの米の粒の数を計算する。\n",
    "\n",
    "    Parameteres\n",
    "    --------------\n",
    "    day: int\n",
    "        米を貰う日数 (default : 100)\n",
    "\n",
    "    Returns\n",
    "    --------------\n",
    "    list_n_grains : list\n",
    "        ある日に貰う米の数のリスト（リストの長さはdayに等しくなる）\n",
    "    list_total_grains : list\n",
    "        ある日までに累計で貰う米の数のリスト（リストの長さはdayに等しくなる）\n",
    "    \"\"\"\n",
    "    list_n_grains=[start_rice]\n",
    "    list_total_grains = [start_rice]\n",
    "\n",
    "    for i in range(day):\n",
    "        list_n_grains.append(list_n_grains[-1]*2)\n",
    "        list_total_grains.append(list_total_grains[-1] + list_n_grains[-1])\n",
    "\n",
    "    return list_n_grains, list_total_grains\n",
    "\n",
    "# 受講日数：６４日　(7月は４回、８−10月は２０回/月)\n",
    "list_n_grains, list_total_grains = compute_sorori_shinzaemon(day=64)\n",
    "\n",
    "# 累計でもらう米の数\n",
    "print(\"受講日{}日合計で貰う米の数:{:,}\".format(len(list_total_grains) - 1, list_total_grains[-1]))\n",
    "\n",
    "# デイリーで貰う米の数のグラフの描画\n",
    "plt.title(\"Rice_per_days\")\n",
    "plt.xlabel(\"Days\")\n",
    "plt.ylabel(\"Rice\")\n",
    "\n",
    "plt.plot(list_n_grains)\n",
    "plt.show()\n"
   ]
  },
  {
   "cell_type": "markdown",
   "metadata": {},
   "source": [
    "## 【問題3】何人が何日生活できる米か\n",
    "この米があれば何人が何日生活できるか計算する関数を作成してください。コースを受講する期間に貰える米粒で、このクラスにいる人数であれば、何日間生活できるかを出力してみましょう。\n",
    "\n",
    "\n",
    "関数の最低限の入力は 米粒の数(int) と 人数(int) 、出力は 生活できる日数(int) です。関数名やコメントなどは分かりやすく考えて作成してください。\n",
    "\n",
    "\n",
    "ここでは1日に必要な米粒の数は提示しません。自分なりに調べて、計算式に落とし込んでください。どう調べ、何を根拠にしたかもコメントを残しておいてください。"
   ]
  },
  {
   "cell_type": "code",
   "execution_count": 31,
   "metadata": {},
   "outputs": [
    {
     "name": "stdout",
     "output_type": "stream",
     "text": [
      "219604096115589日間生活できる。\n"
     ]
    }
   ],
   "source": [
    "# クラス人数：14名\n",
    "# 1日に摂取する米粒の量：1合で６０００粒　1食1合とし、1日２食分と計算する\n",
    "def survival(grains, class_member=14):\n",
    "    \"\"\"\n",
    "    grains:米粒の数\n",
    "    class_member:DIC2007期受講生14名を初期値とする\n",
    "    \n",
    "    grainsに対し、class_memberが何日間生活できるかの関数\n",
    "    \n",
    "    \"\"\"\n",
    "    day_rice = 6000 * 2\n",
    "    need_rice = class_member * day_rice\n",
    "    \n",
    "    return grains // need_rice\n",
    "\n",
    "# 受講日数64日での必要な米粒の量\n",
    "survival_days = survival(list_total_grains[-1])\n",
    "\n",
    "print(\"{}日間生活できる。\".format(survival_days))"
   ]
  },
  {
   "cell_type": "code",
   "execution_count": null,
   "metadata": {},
   "outputs": [],
   "source": []
  }
 ],
 "metadata": {
  "kernelspec": {
   "display_name": "Python 3",
   "language": "python",
   "name": "python3"
  },
  "language_info": {
   "codemirror_mode": {
    "name": "ipython",
    "version": 3
   },
   "file_extension": ".py",
   "mimetype": "text/x-python",
   "name": "python",
   "nbconvert_exporter": "python",
   "pygments_lexer": "ipython3",
   "version": "3.7.2"
  }
 },
 "nbformat": 4,
 "nbformat_minor": 2
}
