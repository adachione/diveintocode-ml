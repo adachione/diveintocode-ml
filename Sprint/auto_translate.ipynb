{
 "cells": [
  {
   "cell_type": "markdown",
   "metadata": {},
   "source": [
    "## 参考記事\n",
    "- [英文PDFをまとめて日本語化](https://qiita.com/KanikaniYou/items/ea3458c47d6011362fac)\n",
    "- [Python - Google translate(グーグル翻訳)APIを使用する方法](https://codechacha.com/ja/python-google-translate/)\n",
    "- [argparse](https://qiita.com/kzkadc/items/e4fc7bc9c003de1eb6d0)"
   ]
  },
  {
   "cell_type": "markdown",
   "metadata": {},
   "source": [
    "## 新規importしたライブラリ\n",
    "- pdfminer(conda install -c conda-forge pdfminer.six)\n",
    "- googletrans(pip install googletrans)"
   ]
  },
  {
   "cell_type": "code",
   "execution_count": 16,
   "metadata": {},
   "outputs": [
    {
     "name": "stderr",
     "output_type": "stream",
     "text": [
      "usage: ipykernel_launcher.py [-h] -input INPUT [-limit LIMIT]\n",
      "ipykernel_launcher.py: error: the following arguments are required: -input\n"
     ]
    },
    {
     "ename": "SystemExit",
     "evalue": "2",
     "output_type": "error",
     "traceback": [
      "An exception has occurred, use %tb to see the full traceback.\n",
      "\u001b[0;31mSystemExit\u001b[0m\u001b[0;31m:\u001b[0m 2\n"
     ]
    },
    {
     "name": "stderr",
     "output_type": "stream",
     "text": [
      "/Users/adachi-yuya/.pyenv/versions/anaconda3-5.3.1/lib/python3.7/site-packages/IPython/core/interactiveshell.py:2969: UserWarning: To exit: use 'exit', 'quit', or Ctrl-D.\n",
      "  warn(\"To exit: use 'exit', 'quit', or Ctrl-D.\", stacklevel=1)\n"
     ]
    }
   ],
   "source": [
    "import argparse\n",
    "import requests\n",
    "from pdfminer.pdfinterp import PDFResourceManager, PDFPageInterpreter\n",
    "from pdfminer.converter import TextConverter\n",
    "from pdfminer.layout import LAParams\n",
    "from pdfminer.pdfpage import PDFPage\n",
    "from io import StringIO\n",
    "import re\n",
    "import os\n",
    "from googletrans import Translator\n",
    "\n",
    "def is_float(n):\n",
    "    try:\n",
    "        float(n)\n",
    "    except ValueError:\n",
    "        return False\n",
    "    else:\n",
    "        return True\n",
    "\n",
    "\n",
    "def get_text_from_pdf(pdfname, limit=1000):\n",
    "    # PDFファイル名が未指定の場合は、空文字列を返して終了\n",
    "    if (pdfname == ''):\n",
    "        return ''\n",
    "    else:\n",
    "        # 処理するPDFファイルを開く/開けなければ\n",
    "        try:\n",
    "            fp = open(pdfname, 'rb')\n",
    "        except:\n",
    "            return ''\n",
    "\n",
    "    # PDFからテキストの抽出\n",
    "    rsrcmgr = PDFResourceManager()\n",
    "    out_fp = StringIO()\n",
    "    la_params = LAParams()\n",
    "    la_params.detect_vertical = True\n",
    "    device = TextConverter(rsrcmgr, out_fp, codec='utf-8', laparams=la_params)\n",
    "    interpreter = PDFPageInterpreter(rsrcmgr, device)\n",
    "    for page in PDFPage.get_pages(fp, pagenos=None, maxpages=0, password=None, caching=True, check_extractable=True):\n",
    "        interpreter.process_page(page)\n",
    "    text = out_fp.getvalue()\n",
    "    fp.close()\n",
    "    device.close()\n",
    "    out_fp.close()\n",
    "\n",
    "    # 改行で分割する\n",
    "    lines = text.splitlines()\n",
    "\n",
    "    outputs = []\n",
    "    output = \"\"\n",
    "\n",
    "    # 除去するutf8文字\n",
    "    replace_strs = [b'\\x00']\n",
    "\n",
    "    is_blank_line = False\n",
    "\n",
    "    # 分割した行でループ\n",
    "    for line in lines:\n",
    "\n",
    "        # byte文字列に変換\n",
    "        line_utf8 = line.encode('utf-8')\n",
    "\n",
    "        # 余分な文字を除去する\n",
    "        for replace_str in replace_strs:\n",
    "            line_utf8 = line_utf8.replace(replace_str, b'')\n",
    "\n",
    "        # strに戻す\n",
    "        line = line_utf8.decode()\n",
    "\n",
    "        # 連続する空白を一つにする\n",
    "        line = re.sub(\"[ ]+\", \" \", line)\n",
    "\n",
    "        # 前後の空白を除く\n",
    "        line = line.strip()\n",
    "        #print(\"aft:[\" + line + \"]\")\n",
    "\n",
    "        # 空行は無視\n",
    "        if len(line) == 0:\n",
    "            is_blank_line = True\n",
    "            continue\n",
    "\n",
    "        # 数字だけの行は無視\n",
    "        if is_float(line):\n",
    "            continue\n",
    "\n",
    "        # 1単語しかなく、末尾がピリオドで終わらないものは無視\n",
    "        if line.split(\" \").count == 1 and not line.endswith(\".\"):\n",
    "            continue\n",
    "\n",
    "        # 文章の切れ目の場合\n",
    "        if is_blank_line or output.endswith(\".\"):\n",
    "            # 文字数がlimitを超えていたらここで一旦区切る\n",
    "            if(len(output) > limit):\n",
    "                outputs.append(output)\n",
    "                output = \"\"\n",
    "            else:\n",
    "                output += \"\\r\\n\"\n",
    "        #前の行からの続きの場合\n",
    "        elif not is_blank_line and output.endswith(\"-\"):\n",
    "            output = output[:-1]\n",
    "        #それ以外の場合は、単語の切れ目として半角空白を入れる\n",
    "        else:\n",
    "            output += \" \"\n",
    "\n",
    "        #print(\"[\" + str(line) + \"]\")\n",
    "        output += str(line)\n",
    "        is_blank_line = False\n",
    "\n",
    "    outputs.append(output)\n",
    "    return outputs\n",
    "\n",
    "\n",
    "def translate(input):\n",
    "    # 変更\n",
    "    translator = Translator()\n",
    "    result = translator.translate(str(input), dest=\"ja\")\n",
    "\n",
    "    return result.text\n",
    "\n",
    "def main():\n",
    "\n",
    "    parser = argparse.ArgumentParser()\n",
    "    parser.add_argument(\"-input\", type=str, required=True)\n",
    "    parser.add_argument(\"-limit\", type=int, default=1000)\n",
    "    args = parser.parse_args()\n",
    "\n",
    "    path = os.getcwd()  # 変更\n",
    "    base_name = os.path.splitext(os.path.basename(args.input))[0]\n",
    "\n",
    "    # pdfをテキストに変換\n",
    "    inputs = get_text_from_pdf(args.input, limit=args.limit)\n",
    "\n",
    "    with open(path + os.sep + \"text.txt\", \"w\", encoding=\"utf-8\") as f_text:\n",
    "        with open(path + os.sep + \"translate.txt\", \"w\", encoding=\"utf-8\") as f_trans:\n",
    "\n",
    "            # 一定文字列で分割した文章毎にAPIを叩く\n",
    "            for i, input in enumerate(inputs):\n",
    "                print(\"{0}/{1} is proccessing\".format((i+1), len(inputs)))\n",
    "                # 結果をファイルに出力\n",
    "                f_text.write(input)\n",
    "                f_trans.write(translate(input))\n",
    "\n",
    "\n",
    "if __name__ == \"__main__\":\n",
    "    main()"
   ]
  },
  {
   "cell_type": "code",
   "execution_count": 2,
   "metadata": {},
   "outputs": [
    {
     "name": "stdout",
     "output_type": "stream",
     "text": [
      "Translated(src=ko, dest=ja, text=こんにちは。, pronunciation=Kon'nichiwa., extra_data=\"{'translat...\")\n"
     ]
    }
   ],
   "source": [
    "from googletrans import Translator\n",
    "translator = Translator()\n",
    "result = translator.translate('안녕하세요.', dest=\"ja\")\n",
    "print(result)"
   ]
  },
  {
   "cell_type": "code",
   "execution_count": 4,
   "metadata": {},
   "outputs": [
    {
     "name": "stdout",
     "output_type": "stream",
     "text": [
      "こんにちは。\n"
     ]
    }
   ],
   "source": [
    "print(result.text)"
   ]
  },
  {
   "cell_type": "code",
   "execution_count": 6,
   "metadata": {},
   "outputs": [
    {
     "name": "stdout",
     "output_type": "stream",
     "text": [
      "足立優也です\n"
     ]
    }
   ],
   "source": [
    "result = translator.translate('My name is Yuya Adachi', dest=\"ja\")\n",
    "print(result.text)"
   ]
  },
  {
   "cell_type": "code",
   "execution_count": 7,
   "metadata": {},
   "outputs": [
    {
     "name": "stdout",
     "output_type": "stream",
     "text": [
      "物体検出における最近の進歩は、地域提案手法の成功によって推進されています\n"
     ]
    }
   ],
   "source": [
    "result = translator.translate('Recent advances in object detection are driven by the success of region proposal methods ', dest=\"ja\")\n",
    "print(result.text)"
   ]
  },
  {
   "cell_type": "code",
   "execution_count": 8,
   "metadata": {},
   "outputs": [
    {
     "name": "stdout",
     "output_type": "stream",
     "text": [
      "地域提案\n"
     ]
    }
   ],
   "source": [
    "result = translator.translate('Region proposal', dest=\"ja\")\n",
    "print(result.text)"
   ]
  },
  {
   "cell_type": "code",
   "execution_count": 12,
   "metadata": {},
   "outputs": [
    {
     "name": "stdout",
     "output_type": "stream",
     "text": [
      "/Users/adachi-yuya/diveintocode-ml/Sprint\n"
     ]
    }
   ],
   "source": [
    "import os\n",
    "print(os.getcwd())"
   ]
  },
  {
   "cell_type": "code",
   "execution_count": 13,
   "metadata": {},
   "outputs": [
    {
     "data": {
      "text/plain": [
       "'/'"
      ]
     },
     "execution_count": 13,
     "metadata": {},
     "output_type": "execute_result"
    }
   ],
   "source": [
    "os.sep"
   ]
  },
  {
   "cell_type": "code",
   "execution_count": 15,
   "metadata": {},
   "outputs": [
    {
     "data": {
      "text/plain": [
       "'/Users/adachi-yuya/diveintocode-ml/Sprint'"
      ]
     },
     "execution_count": 15,
     "metadata": {},
     "output_type": "execute_result"
    }
   ],
   "source": [
    "os.getcwd()"
   ]
  },
  {
   "cell_type": "markdown",
   "metadata": {},
   "source": [
    "## 実行にあたって\n",
    "- セル16の全文をファイル名：「translate.py」としてコピペし、スクリプトファイルを作成\n",
    "- 翻訳したいPDFをスクリプトファイル（translate.py)と同ディレクトリにおく\n",
    "- 参考画像のように「python translate.py -input \"1506.02640.pdf\"」←（変換したいPDF名）として実行\n",
    "- 同ディレクトリにtranslate.txtが出来上がる。改行とかされてなく見づらいのはご容赦ください。"
   ]
  },
  {
   "cell_type": "markdown",
   "metadata": {},
   "source": [
    "## 参考\n",
    "- [実行時の画像](./実行時画像.png)\n",
    "- [翻訳後の画像](./translate.txt画像.png)"
   ]
  },
  {
   "cell_type": "code",
   "execution_count": null,
   "metadata": {},
   "outputs": [],
   "source": []
  }
 ],
 "metadata": {
  "kernelspec": {
   "display_name": "Python 3",
   "language": "python",
   "name": "python3"
  },
  "language_info": {
   "codemirror_mode": {
    "name": "ipython",
    "version": 3
   },
   "file_extension": ".py",
   "mimetype": "text/x-python",
   "name": "python",
   "nbconvert_exporter": "python",
   "pygments_lexer": "ipython3",
   "version": "3.7.2"
  },
  "nbTranslate": {
   "displayLangs": [
    "*"
   ],
   "hotkey": "alt-t",
   "langInMainMenu": true,
   "sourceLang": "en",
   "targetLang": "fr",
   "useGoogleTranslate": true
  },
  "toc": {
   "base_numbering": 1,
   "nav_menu": {},
   "number_sections": true,
   "sideBar": true,
   "skip_h1_title": false,
   "title_cell": "Table of Contents",
   "title_sidebar": "Contents",
   "toc_cell": false,
   "toc_position": {},
   "toc_section_display": true,
   "toc_window_display": false
  },
  "varInspector": {
   "cols": {
    "lenName": 16,
    "lenType": 16,
    "lenVar": 40
   },
   "kernels_config": {
    "python": {
     "delete_cmd_postfix": "",
     "delete_cmd_prefix": "del ",
     "library": "var_list.py",
     "varRefreshCmd": "print(var_dic_list())"
    },
    "r": {
     "delete_cmd_postfix": ") ",
     "delete_cmd_prefix": "rm(",
     "library": "var_list.r",
     "varRefreshCmd": "cat(var_dic_list()) "
    }
   },
   "types_to_exclude": [
    "module",
    "function",
    "builtin_function_or_method",
    "instance",
    "_Feature"
   ],
   "window_display": false
  }
 },
 "nbformat": 4,
 "nbformat_minor": 2
}
