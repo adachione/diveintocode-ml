{
 "cells": [
  {
   "cell_type": "markdown",
   "metadata": {},
   "source": [
    "# 何回折ったら富士山を超えるか問題\n",
    "\n",
    "「Pythonを使ってみよう」の問題では「1枚の紙を43回折り曲げた時の厚さを計算するプログラム」を作成し、43回折ることで月に届くことが確認できました。\n",
    "\n",
    "\n",
    "ここで「何回折ったらある厚さになるのか」という疑問が生まれます。こういったことを計算するプログラムを作成していきましょう。\n",
    "\n",
    "\n",
    "紙を折った時の厚さの数式\n",
    "授業前課題と同様ですが確認しておきます。\n",
    "\n",
    "\n",
    "n回折った紙の厚さ $t_{n}$ は以下のように表せます。\n",
    "\n",
    "\n",
    "t\n",
    "n\n",
    "=\n",
    "t\n",
    "0\n",
    "×\n",
    "2\n",
    "n\n",
    "\n",
    "折る前の紙の厚さ $t_{0}$ は0.00008mとします。一般的なコピー用紙の厚さです。"
   ]
  },
  {
   "cell_type": "markdown",
   "metadata": {},
   "source": [
    "## 【問題1】富士山を超える最小の折る回数\n",
    "厚さが「富士山(3776m)」を超えるのは何回紙を折った時か計算するプログラムを作成してください。"
   ]
  },
  {
   "cell_type": "code",
   "execution_count": 8,
   "metadata": {},
   "outputs": [
    {
     "name": "stdout",
     "output_type": "stream",
     "text": [
      "26\n"
     ]
    }
   ],
   "source": [
    "THICKNESS = 0.00008  # 紙の暑さ\n",
    "\n",
    "Mt_FUJI = 3776 # 富士山\n",
    "\n",
    "count = 0\n",
    "\n",
    "while THICKNESS <= Mt_FUJI:\n",
    "    THICKNESS *= 2\n",
    "    count += 1\n",
    "\n",
    "print(count)\n",
    "# print(THICKNESS)"
   ]
  },
  {
   "cell_type": "markdown",
   "metadata": {},
   "source": [
    "## 【問題2】任意の厚さに対応した関数を作成\n",
    "距離を入力すると、何回折った時に超えるかを出力する関数を作成してください。引数として、折る前の厚さ $t_{0}$ も設定できるようにしましょう。\n",
    "\n",
    "\n",
    "この関数を利用して、「最も近い太陽以外の恒星」に到達するには紙を何回折る必要があるか計算してください。「最も近い太陽以外の恒星」の距離は調査してください。"
   ]
  },
  {
   "cell_type": "code",
   "execution_count": 9,
   "metadata": {},
   "outputs": [
    {
     "name": "stdout",
     "output_type": "stream",
     "text": [
      "79\n"
     ]
    }
   ],
   "source": [
    "# 単位：メートル\n",
    "\n",
    "def folded_count(distance, THICKNESS=0.00008):\n",
    "    folded_num = 0\n",
    "    while THICKNESS < distance:\n",
    "        THICKNESS *= 2\n",
    "        folded_num += 1\n",
    "    return folded_num\n",
    "\n",
    "# 最も近い太陽以外の恒星：ケンタウルス座アルファ星　4.243光年の距離\n",
    "# １光年は9.461e+12キロメートル\n",
    "nearest_star = 9.461e+15 * 4.243 * 1000\n",
    "print(folded_count(nearest_star))"
   ]
  },
  {
   "cell_type": "markdown",
   "metadata": {},
   "source": [
    "## 【問題3】必要な紙の長さ\n",
    "実際のところ身近にある紙は43回はおろか10回も折れません。しかし、大きな紙ほどたくさん折ることができ、トイレットペーパーのような長い紙を一方向に折ることを考えた時の折れる回数を求める公式が存在します。\n",
    "\n",
    "\n",
    "厚さ $t_{0}$ の紙をn回折るために必要な紙の長さLは以下の公式で求まります。\n",
    "\n",
    "\n",
    "L\n",
    "=\n",
    "π\n",
    "t\n",
    "0\n",
    "6\n",
    "(\n",
    "2\n",
    "n\n",
    "+\n",
    "4\n",
    ")\n",
    "(\n",
    "2\n",
    "n\n",
    "−\n",
    "1\n",
    ")\n",
    "\n",
    "この公式を利用して、実際に紙を折り任意の厚さに到達するために必要な紙の長さを求める関数を作成してください。\n",
    "\n",
    "\n",
    "そしてこれを使って「月」「富士山」「最も近い太陽以外の恒星」に届くために必要な紙の長さを求めてください。"
   ]
  },
  {
   "cell_type": "code",
   "execution_count": 19,
   "metadata": {},
   "outputs": [
    {
     "name": "stdout",
     "output_type": "stream",
     "text": [
      "富士山までの必要な紙の長さは：1.27e+19メートル\n",
      "月までの必要な紙の長さは：2.17e+29メートル\n",
      "一番近い恒星までの必要な紙の長さは：1.03e+51メートル\n"
     ]
    }
   ],
   "source": [
    "# 富士山：３７７６ｍ　月：384400000m 一番近い恒星（ケンタウルス座アルファ星）：9.461e+15 * 4.243 * 1000ｍ\n",
    "\n",
    "import math\n",
    "\n",
    "def paper_length(length, count):\n",
    "    length = math.pi * THICKNESS * (2**count + 4) * (2**count - 1) / 6\n",
    "    return length\n",
    "\n",
    "FUJI_DISTANCE = 3776\n",
    "MOON_DISTANCE = 384400000\n",
    "NEAREST_STAR_DISTANCE = 9.461e+15 * 4.243 * 1000\n",
    "\n",
    "Fuji_folded_count = folded_count(FUJI_DISTANCE)\n",
    "print(\"富士山までの必要な紙の長さは：{:.2e}メートル\".format(paper_length(3776, Fuji_folded_count)))\n",
    "\n",
    "MOON_folded_count = folded_count(MOON_DISTANCE)\n",
    "print(\"月までの必要な紙の長さは：{:.2e}メートル\".format(paper_length(384400000, MOON_folded_count)))\n",
    "\n",
    "Nearest_star_folded_count = folded_count(NEAREST_STAR_DISTANCE)\n",
    "print(\"一番近い恒星までの必要な紙の長さは：{:.2e}メートル\".format(paper_length(nearest_star, Nearest_star_folded_count)))"
   ]
  },
  {
   "cell_type": "code",
   "execution_count": null,
   "metadata": {},
   "outputs": [],
   "source": []
  }
 ],
 "metadata": {
  "kernelspec": {
   "display_name": "Python 3",
   "language": "python",
   "name": "python3"
  },
  "language_info": {
   "codemirror_mode": {
    "name": "ipython",
    "version": 3
   },
   "file_extension": ".py",
   "mimetype": "text/x-python",
   "name": "python",
   "nbconvert_exporter": "python",
   "pygments_lexer": "ipython3",
   "version": "3.7.2"
  }
 },
 "nbformat": 4,
 "nbformat_minor": 2
}
