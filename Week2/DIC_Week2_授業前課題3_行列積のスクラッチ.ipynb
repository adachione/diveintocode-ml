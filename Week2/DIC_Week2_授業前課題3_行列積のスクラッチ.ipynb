{
 "cells": [
  {
   "cell_type": "markdown",
   "metadata": {},
   "source": [
    "# ■Week2授業前課題3 行列積のスクラッチ"
   ]
  },
  {
   "cell_type": "markdown",
   "metadata": {},
   "source": [
    "## 1.このテキストについて\n",
    "\n",
    "テキストの目的\n",
    "数式演算ライブラリのNumPyに慣れる\n",
    "行列演算に慣れる\n",
    "\n",
    "どのように学ぶか\n",
    "行列積の計算を手計算で行った後、スクラッチ実装することで理解を深めていきます。"
   ]
  },
  {
   "cell_type": "markdown",
   "metadata": {},
   "source": [
    "## 2.行列積\n",
    "\n",
    "以下のような行列A、Bを考えます。\n",
    "\n",
    "\n",
    "A\n",
    "=\n",
    "⎡\n",
    "⎢\n",
    "⎣\n",
    "−\n",
    "1\n",
    "2\n",
    "3\n",
    "4\n",
    "−\n",
    "5\n",
    "6\n",
    "\u0018\n",
    "\u0018\n",
    "7\n",
    "8\n",
    "−\n",
    "9\n",
    "⎤\n",
    "⎥\n",
    "⎦\n",
    ",\n",
    "B\n",
    "=\n",
    "⎡\n",
    "⎢\n",
    "⎣\n",
    "0\n",
    "2\n",
    "1\n",
    "0\n",
    "2\n",
    "−\n",
    "8\n",
    "2\n",
    "9\n",
    "−\n",
    "1\n",
    "⎤\n",
    "⎥\n",
    "⎦\n",
    "\n",
    "NumPyで表すと次のようになります。\n",
    "\n",
    "import numpy as np\n",
    "a_ndarray = np.array([[-1, 2, 3], [4, -5, 6], [7, 8, -9]])\n",
    "b_ndarray = np.array([[0, 2, 1], [0, 2, -8], [2, 9, -1]])\n"
   ]
  },
  {
   "cell_type": "markdown",
   "metadata": {},
   "source": [
    "## 【問題1】行列積を手計算する\n",
    "AとBの行列積を手計算で解いてください。\n",
    "\n",
    "\n",
    "計算過程もマークダウンテキストを用いて説明してください。"
   ]
  },
  {
   "cell_type": "markdown",
   "metadata": {},
   "source": [
    "[計算過程]\n",
    "$$\n",
    "    \\boldsymbol{AB} =\n",
    "        \\left[\\begin{array}{ccc}\n",
    "            ab_{0,0} = a_{0,0}* b_{0,0} + a_{0,1}*b_{1,0} +a_{0,2}*b_{2,0} & \\cdots & ab_{0,x}\\\\\n",
    "            \\vdots  & \\ddots & \\vdots \\\\\n",
    "            ab_{y,0} & \\cdots & a_{y,x} \\\\\n",
    "        \\end{array}\\right]\n",
    "$$\n",
    "\n",
    "にならい\n",
    "\n",
    "$$\n",
    "    \\boldsymbol{AB} =\n",
    "        \\left[\\begin{array}{ccc}\n",
    "            ab_{0,0} = (-1)*0 + 2*0+3*2 & ab_{0,1} = (-1)*2 + 2*2 + 3*9 & ab_{0,2} = (-1)*1 + 2*(-8) + 3*(-1)\\\\\n",
    "            ab_{1,0} = 4*0+(-5)*0+6*2 & ab_{1,1} = 4*2 + (-5)*2 + 6*9 & ab_{1,2} = 4*1 + (-5)*(-8) + 6*(-1)\\\\\n",
    "            ab_{2,0} = 7*0 + 8*0+(-9)*2 & ab_{2,1} = 7*2 + 8*2 + (-9)*9 & ab_{2,2} = 7*1 + 8*(-8) + (-9)*(-1)\\\\\n",
    "        \\end{array}\\right]\n",
    "$$\n",
    "\n",
    "全て計算し以下解答となった。"
   ]
  },
  {
   "cell_type": "markdown",
   "metadata": {},
   "source": [
    "# A：([[6 , 29, -20], [12, 52, 38], [-18, -51, -48]])\n",
    "行列積ABはAの行数とBの列数の行列になる。今回はAもBも３行３列の行列のため、Aの行＝３とBの列＝３で３×３の行列となる。\n",
    "Aの１列目＊Bの１行目の和・・・Aのｍ列＊Bのn行まで繰り返し、AB行列のｍ行n列の値になる。\n",
    "行列積はABとBAで基準の行列がどちらになるかで全く違うという特徴もある。"
   ]
  },
  {
   "cell_type": "markdown",
   "metadata": {},
   "source": [
    "## 【問題2】NumPyの関数による計算\n",
    "この行列積はNumPyのnp.matmul()やnp.dot()、または@演算子を使うことで簡単に計算できます。\n",
    "\n",
    "\n",
    "これらを使い行列積を計算してください。\n",
    "\n",
    "\n",
    "numpy.matmul — NumPy v1.16 Manual\n",
    "\n",
    "\n",
    "numpy.dot — NumPy v1.16 Manual\n",
    "\n",
    "\n",
    "《3種類の違い》\n",
    "\n",
    "\n",
    "np.matmul()とnp.dot()は3次元以上の配列で挙動が変わります。@演算子はnp.matmul()と同じ働きをします。\n",
    "\n",
    "\n",
    "今回のような2次元配列の行列積ではnp.matmul()や@演算子が公式に推奨されています。以下はnp.dot()の説明からの引用です。\n",
    "\n",
    "\n",
    "If both a and b are 2-D arrays, it is matrix multiplication, but using matmul or a @ b is preferred."
   ]
  },
  {
   "cell_type": "code",
   "execution_count": 1,
   "metadata": {},
   "outputs": [
    {
     "name": "stdout",
     "output_type": "stream",
     "text": [
      "[[  6  29 -20]\n",
      " [ 12  52  38]\n",
      " [-18 -51 -48]]\n",
      "[[  6  29 -20]\n",
      " [ 12  52  38]\n",
      " [-18 -51 -48]]\n",
      "[[  6  29 -20]\n",
      " [ 12  52  38]\n",
      " [-18 -51 -48]]\n"
     ]
    }
   ],
   "source": [
    "import numpy as np\n",
    "a_ndarray = np.array([[-1, 2, 3], [4, -5, 6], [7, 8, -9]])\n",
    "b_ndarray = np.array([[0, 2, 1], [0, 2, -8], [2, 9, -1]])\n",
    "\n",
    "matmul_ab = np.matmul(a_ndarray, b_ndarray)\n",
    "print(matmul_ab)\n",
    "\n",
    "dot_ab = np.dot(a_ndarray, b_ndarray)\n",
    "print(dot_ab)\n",
    "\n",
    "mark_ab = a_ndarray @ b_ndarray\n",
    "print(mark_ab)"
   ]
  },
  {
   "cell_type": "markdown",
   "metadata": {},
   "source": [
    "## 3.行列積のスクラッチ実装\n",
    "\n",
    "np.matmul()やnp.dot()、または@演算子を使わずに、手計算で行った計算過程をNumPyによるスクラッチ実装で再現していきましょう。これにより、行列積の計算に対する理解を深めます。ここで考えるのは行列AとBのような次元が2の配列に限定します。"
   ]
  },
  {
   "cell_type": "markdown",
   "metadata": {},
   "source": [
    "## 【問題3】ある要素の計算を実装\n",
    "手計算をする際はまず行列Aの0行目と行列Bの0列目に注目し、以下の計算を行ったかと思います。\n",
    "\n",
    "\n",
    "行列Aの(0,0)の要素 $a_{0, 0}$ と行列Bの(0,0)の要素 $b_{0, 0}$ を掛け合わせる\n",
    "行列Aの(0,1)の要素 $a_{0, 1}$ と行列Bの(1,0)の要素 $b_{1, 0}$ を掛け合わせる\n",
    "行列Aの(0,2)の要素 $a_{0, 2}$ と行列Bの(2,0)の要素 $b_{2, 0}$ を掛け合わせる\n",
    "それらの値を全て足し合わせる\n",
    "\n",
    "数式で表すと\n",
    "\n",
    "2\n",
    "∑\n",
    "k\n",
    "=\n",
    "0\n",
    " \n",
    "a\n",
    "0\n",
    ",\n",
    "k\n",
    "b\n",
    "k\n",
    ",\n",
    "0\n",
    "\n",
    "です。\n",
    "\n",
    "\n",
    "この計算をnp.matmul()やnp.dot()、または@演算子を使わずに行うコードを書いてください。"
   ]
  },
  {
   "cell_type": "code",
   "execution_count": 2,
   "metadata": {},
   "outputs": [
    {
     "name": "stdout",
     "output_type": "stream",
     "text": [
      "[[  6.  29. -20.]\n",
      " [ 12.  52.  38.]\n",
      " [-18. -51. -48.]]\n"
     ]
    }
   ],
   "source": [
    "\"\"\"\n",
    "for分作成のため整理\n",
    "\n",
    "n1 = a_ndarray[0, 0] * b_ndarray[0, 0]\n",
    "n2 = a_ndarray[0, 1] * b_ndarray[1, 0]\n",
    "n3 = a_ndarray[0, 2] * b_ndarray[2, 0]\n",
    "n4 = a_ndarray[0, 0] * b_ndarray[0, 1]\n",
    "n5 = a_ndarray[0, 1] * b_ndarray[1, 1]\n",
    "n6 = a_ndarray[0, 2] * b_ndarray[2, 1]\n",
    "n7 = a_ndarray[0, 0] * b_ndarray[0, 2]\n",
    "n8 = a_ndarray[0, 1] * b_ndarray[1, 2]\n",
    "n9 = a_ndarray[0, 2] * b_ndarray[2, 2]\n",
    "n10 = a_ndarray[1, 0] * b_ndarray[0, 0]\n",
    "n11 = a_ndarray[1, 1] * b_ndarray[1, 0]\n",
    "n12 = a_ndarray[1, 2] * b_ndarray[2, 0]\n",
    "n13 = a_ndarray[1, 0] * b_ndarray[0, 1]\n",
    "n14 = a_ndarray[1, 1] * b_ndarray[1, 1]\n",
    "n15 = a_ndarray[1, 2] * b_ndarray[2, 1]\n",
    "n16 = a_ndarray[1, 0] * b_ndarray[0, 2]\n",
    "n17 = a_ndarray[1, 1] * b_ndarray[1, 2]\n",
    "n18 = a_ndarray[1, 2] * b_ndarray[2, 2]\n",
    "n19 = a_ndarray[2, 0] * b_ndarray[0, 0]\n",
    "n20 = a_ndarray[2, 1] * b_ndarray[1, 0]\n",
    "n21 = a_ndarray[2, 2] * b_ndarray[2, 0]\n",
    "n22 = a_ndarray[2, 0] * b_ndarray[0, 1]\n",
    "n23 = a_ndarray[2, 1] * b_ndarray[1, 1]\n",
    "n24 = a_ndarray[2, 2] * b_ndarray[2, 1]\n",
    "n25 = a_ndarray[2, 0] * b_ndarray[0, 2]\n",
    "n26 = a_ndarray[2, 1] * b_ndarray[1, 2]\n",
    "n27 = a_ndarray[2, 2] * b_ndarray[2, 2]\n",
    "\n",
    "\"\"\"\n",
    "\n",
    "# print(n1)\n",
    "# print(n2)\n",
    "# print(n3)\n",
    "\n",
    "matmul_list = np.array([])\n",
    "# print(matmul_list)\n",
    "\n",
    "for n in range(3):\n",
    "    for j in range(3):\n",
    "        matmul_sum = 0\n",
    "        for i in range(3):\n",
    "            matmul_1 = a_ndarray[n, i] * b_ndarray[i, j]\n",
    "            matmul_sum += matmul_1\n",
    "            # print(matmul_sum)\n",
    "        matmul_list = np.append(matmul_list, matmul_sum)\n",
    "\n",
    "matmul_list_reshape = matmul_list.reshape(3, 3)\n",
    "print(matmul_list_reshape)"
   ]
  },
  {
   "cell_type": "markdown",
   "metadata": {},
   "source": [
    "## 【問題4】行列積を行う関数の作成\n",
    "問題3のコードを拡張し、行列積のスクラッチ実装を完成させてください。行列AとBを引数に受け取り、行列積を返す関数としてください。\n",
    "\n",
    "\n",
    "行列積を計算する場合は、問題3の計算を異なる行や列に対して繰り返していくことになります。\n",
    "\n",
    "\n",
    "計算結果である $3 \\times 3$ の行列Cの各要素 $c_{i, j}$ は数式で表すと次のようになります。\n",
    "\n",
    "\n",
    "c\n",
    "i\n",
    ",\n",
    "j\n",
    "=\n",
    "2\n",
    "∑\n",
    "k\n",
    "=\n",
    "0\n",
    " \n",
    "a\n",
    "i\n",
    ",\n",
    "k\n",
    "b\n",
    "k\n",
    ",\n",
    "j\n",
    "\n",
    "for文を使い、ndarrayのインデックスを動かしていくことで、合計9つの要素が計算できます。インデックス $i$ や $j$ を1増やすと、次の行や列に移ることができます。"
   ]
  },
  {
   "cell_type": "code",
   "execution_count": 3,
   "metadata": {},
   "outputs": [
    {
     "name": "stdout",
     "output_type": "stream",
     "text": [
      "[[13. 16.]\n",
      " [37. 46.]]\n"
     ]
    }
   ],
   "source": [
    "#行列積の関数\n",
    "def matrix_dot(matrix1, matrix2):\n",
    "    array1 = np.array(matrix1)\n",
    "    array2 = np.array(matrix2)\n",
    "    \n",
    "    matmul_list = np.array([])\n",
    "    \n",
    "    for n in range(matrix1.shape[0]):\n",
    "        for j in range(matrix2.shape[1]):\n",
    "            matmul_sum = 0\n",
    "            for i in range(matrix1.shape[0]):\n",
    "                matmul_1 = a_ndarray[n, i] * b_ndarray[i, j]\n",
    "                matmul_sum += matmul_1\n",
    "                # print(matmul_sum)\n",
    "            matmul_list = np.append(matmul_list, matmul_sum)\n",
    "    \n",
    "    matmul_list_reshape = np.reshape(matmul_list,(matrix1.shape[0], matrix2.shape[1]))\n",
    "\n",
    "    return matmul_list_reshape\n",
    "\n",
    "a_ndarray = np.array([[1,2],[4,5]])\n",
    "b_ndarray = np.array([[3,4],[5,6]])\n",
    "\n",
    "ab_dot_ndarray = matrix_dot(a_ndarray, b_ndarray)\n",
    "print(ab_dot_ndarray)\n",
    "\n",
    "\n",
    "# 3*3行列同士の積でも答え合わせ済\n",
    "# 上記2*2の行列積は別セルにて答え合わせ済"
   ]
  },
  {
   "cell_type": "markdown",
   "metadata": {},
   "source": [
    "## 行列積が定義されない組み合わせの行列\n",
    "\n",
    "次に以下のような例を考えます。\n",
    "\n",
    "\n",
    "D\n",
    "=\n",
    "[\n",
    "−\n",
    "1\n",
    "2\n",
    "3\n",
    "4\n",
    "−\n",
    "5\n",
    "6\n",
    "]\n",
    ",\n",
    "E\n",
    "−\n",
    "=\n",
    "[\n",
    "−\n",
    "9\n",
    "8\n",
    "7\n",
    "6\n",
    "−\n",
    "5\n",
    "4\n",
    "]\n",
    "\n",
    "1\n",
    "2\n",
    "d_ndarray_ = np.array([[-1, 2, 3], [4, -5, 6]])\n",
    "e_ndarray = np.array([[-9, 8, 7], [6, -5, 4]])\n",
    "\n",
    "行列積DEはDの列数とEの行数が等しい場合に定義されていますから、この例では計算ができません。"
   ]
  },
  {
   "cell_type": "markdown",
   "metadata": {},
   "source": [
    "## 【問題5】計算が定義されない入力を判定する\n",
    "問題4で作成した関数は、実装方法によってはこのDとEの配列を入力しても動いてしまう可能性があります。この場合、不適切な計算が行われることになります。また、途中でエラーになる場合でも、なぜエラーになったかが直接的には分かりづらいメッセージが表示されます。\n",
    "\n",
    "\n",
    "if文などによってこれを防ぎ、入力される形に問題があることをprint()を使い表示するコードを書き加えてください。"
   ]
  },
  {
   "cell_type": "code",
   "execution_count": 6,
   "metadata": {},
   "outputs": [
    {
     "name": "stdout",
     "output_type": "stream",
     "text": [
      "行列積はできません\n"
     ]
    }
   ],
   "source": [
    "# if文追加　行列Aの行数と行列Bの列数が同数の場合のみ計算とする\n",
    "\n",
    "def matrix_dot_if(matrix1, matrix2):\n",
    "    array1 = np.array(matrix1)\n",
    "    array2 = np.array(matrix2)\n",
    "    \n",
    "    matmul_list = np.array([])\n",
    "    \n",
    "    if matrix1.shape[0] == matrix2.shape[1]:\n",
    "        for n in range(matrix1.shape[0]):\n",
    "            for j in range(matrix2.shape[1]):\n",
    "                matmul_sum = 0\n",
    "                for i in range(matrix1.shape[0]):\n",
    "                    matmul_1 = a_ndarray[n, i] * b_ndarray[i, j]\n",
    "                    matmul_sum += matmul_1\n",
    "                    # print(matmul_sum)\n",
    "                matmul_list = np.append(matmul_list, matmul_sum)\n",
    "\n",
    "        matmul_list_reshape = np.reshape(matmul_list,(matrix1.shape[0], matrix2.shape[1]))\n",
    "\n",
    "        return matmul_list_reshape\n",
    "    \n",
    "    else:\n",
    "        print(\"行列積はできません\")        \n",
    "\n",
    "d_ndarray = np.array([[-1, 2, 3], [4, -5, 6]])\n",
    "e_ndarray = np.array([[-9, 8, 7], [6, -5, 4]])\n",
    "\n",
    "de = matrix_dot_if(d_ndarray, e_ndarray)\n",
    "de\n"
   ]
  },
  {
   "cell_type": "markdown",
   "metadata": {},
   "source": [
    "## 【問題6】転置\n",
    "片方の行列を転置することで、行列積が計算できるようになります。\n",
    "\n",
    "\n",
    "np.transpose()や.Tアトリビュートを用いて転置し、行列積を計算してください。\n",
    "\n",
    "\n",
    "numpy.transpose — NumPy v1.16 Manual\n",
    "\n",
    "\n",
    "numpy.ndarray.T — NumPy v1.16 Manual"
   ]
  },
  {
   "cell_type": "code",
   "execution_count": 8,
   "metadata": {},
   "outputs": [
    {
     "data": {
      "text/plain": [
       "array([[ 46,  -4],\n",
       "       [-34,  73]])"
      ]
     },
     "execution_count": 8,
     "metadata": {},
     "output_type": "execute_result"
    }
   ],
   "source": [
    "# 転置（.T）してから行列積\n",
    "d_ndarray = np.array([[-1, 2, 3], [4, -5, 6]])\n",
    "e_ndarray = np.array([[-9, 8, 7], [6, -5, 4]])\n",
    "\n",
    "de = np.dot(d_ndarray, e_ndarray.T)\n",
    "de"
   ]
  },
  {
   "cell_type": "markdown",
   "metadata": {},
   "source": [
    "## 参考\n",
    "numpyの行列数取得について：https://note.nkmk.me/python-numpy-ndarray-ndim-shape-size/\n",
    "\n",
    "## 備忘録\n",
    "所要時間：５ｈ　for文問題でつまづいた。"
   ]
  },
  {
   "cell_type": "code",
   "execution_count": null,
   "metadata": {},
   "outputs": [],
   "source": []
  }
 ],
 "metadata": {
  "kernelspec": {
   "display_name": "Python 3",
   "language": "python",
   "name": "python3"
  },
  "language_info": {
   "codemirror_mode": {
    "name": "ipython",
    "version": 3
   },
   "file_extension": ".py",
   "mimetype": "text/x-python",
   "name": "python",
   "nbconvert_exporter": "python",
   "pygments_lexer": "ipython3",
   "version": "3.7.2"
  },
  "nbTranslate": {
   "displayLangs": [
    "*"
   ],
   "hotkey": "alt-t",
   "langInMainMenu": true,
   "sourceLang": "en",
   "targetLang": "fr",
   "useGoogleTranslate": true
  },
  "varInspector": {
   "cols": {
    "lenName": 16,
    "lenType": 16,
    "lenVar": 40
   },
   "kernels_config": {
    "python": {
     "delete_cmd_postfix": "",
     "delete_cmd_prefix": "del ",
     "library": "var_list.py",
     "varRefreshCmd": "print(var_dic_list())"
    },
    "r": {
     "delete_cmd_postfix": ") ",
     "delete_cmd_prefix": "rm(",
     "library": "var_list.r",
     "varRefreshCmd": "cat(var_dic_list()) "
    }
   },
   "types_to_exclude": [
    "module",
    "function",
    "builtin_function_or_method",
    "instance",
    "_Feature"
   ],
   "window_display": false
  }
 },
 "nbformat": 4,
 "nbformat_minor": 2
}
