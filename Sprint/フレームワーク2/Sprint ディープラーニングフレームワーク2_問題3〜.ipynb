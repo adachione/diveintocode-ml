{
 "cells": [
  {
   "cell_type": "markdown",
   "metadata": {},
   "source": [
    "# Sprint ディープラーニングフレームワーク2"
   ]
  },
  {
   "cell_type": "markdown",
   "metadata": {},
   "source": [
    "## 【問題3】Iris（2値分類）をKerasで学習\n",
    "TensorFlowによるIrisデータセットに対する2値分類をKerasに書き換えてください。"
   ]
  },
  {
   "cell_type": "code",
   "execution_count": 5,
   "metadata": {},
   "outputs": [],
   "source": [
    "import tensorflow as tf\n",
    "from tensorflow import keras\n",
    "\n",
    "from keras.models import Sequential\n",
    "from keras.layers import Dense, Activation\n",
    "from keras.optimizers import SGD\n",
    "\n",
    "from sklearn.model_selection import train_test_split\n",
    "from sklearn.preprocessing import StandardScaler\n",
    "\n",
    "from keras.datasets import mnist\n",
    "from keras.utils import np_utils\n",
    "from keras import backend as K\n",
    "from sklearn.preprocessing import OneHotEncoder\n",
    "\n",
    "import numpy as np\n",
    "import pandas as pd\n",
    "import matplotlib.pyplot as plt\n",
    "%matplotlib inline\n",
    "import seaborn as sns"
   ]
  },
  {
   "cell_type": "code",
   "execution_count": 6,
   "metadata": {},
   "outputs": [
    {
     "name": "stdout",
     "output_type": "stream",
     "text": [
      "1.13.1\n"
     ]
    }
   ],
   "source": [
    "print(tf.__version__)"
   ]
  },
  {
   "cell_type": "code",
   "execution_count": 7,
   "metadata": {},
   "outputs": [],
   "source": [
    "class GetMiniBatch:\n",
    "    \"\"\"\n",
    "    ミニバッチを取得するイテレータ\n",
    "\n",
    "    Parameters\n",
    "    ----------\n",
    "    X : 次の形のndarray, shape (n_samples, n_features)\n",
    "      訓練データ\n",
    "    y : 次の形のndarray, shape (n_samples, 1)\n",
    "      正解値\n",
    "    batch_size : int\n",
    "      バッチサイズ\n",
    "    seed : int\n",
    "      NumPyの乱数のシード\n",
    "    \"\"\"\n",
    "    def __init__(self, X, y, batch_size = 10, seed=0):\n",
    "        self.batch_size = batch_size\n",
    "        np.random.seed(seed)\n",
    "        shuffle_index = np.random.permutation(np.arange(X.shape[0]))\n",
    "        self.X = X[shuffle_index]\n",
    "        self.y = y[shuffle_index]\n",
    "        self._stop = np.ceil(X.shape[0]/self.batch_size).astype(np.int)\n",
    "    def __len__(self):\n",
    "        return self._stop\n",
    "    def __getitem__(self,item):\n",
    "        p0 = item*self.batch_size\n",
    "        p1 = item*self.batch_size + self.batch_size\n",
    "        return self.X[p0:p1], self.y[p0:p1]        \n",
    "    def __iter__(self):\n",
    "        self._counter = 0\n",
    "        return self\n",
    "    def __next__(self):\n",
    "        if self._counter >= self._stop:\n",
    "            raise StopIteration()\n",
    "        p0 = self._counter*self.batch_size\n",
    "        p1 = self._counter*self.batch_size + self.batch_size\n",
    "        self._counter += 1\n",
    "        return self.X[p0:p1], self.y[p0:p1]"
   ]
  },
  {
   "cell_type": "code",
   "execution_count": 8,
   "metadata": {},
   "outputs": [],
   "source": [
    "\"\"\"\n",
    "Kerasを使いIrisデータセットを2値分類する\n",
    "\"\"\"\n",
    "# データセットの読み込み\n",
    "dataset_path =\"../Iris.csv\"\n",
    "df = pd.read_csv(dataset_path)\n",
    "# データフレームから条件抽出\n",
    "df = df[(df[\"Species\"] == \"Iris-versicolor\")|(df[\"Species\"] == \"Iris-virginica\")]\n",
    "y = df[\"Species\"]\n",
    "X = df.loc[:, [\"SepalLengthCm\", \"SepalWidthCm\", \"PetalLengthCm\", \"PetalWidthCm\"]]\n",
    "y = np.array(y)\n",
    "X = np.array(X)\n",
    "# ラベルを数値に変換\n",
    "y[y=='Iris-versicolor'] = 0\n",
    "y[y=='Iris-virginica'] = 1\n",
    "y = y.astype(np.int)[:, np.newaxis]\n",
    "# trainとtestに分割\n",
    "X_train, X_test, y_train, y_test = train_test_split(X, y, test_size=0.2, random_state=0)\n",
    "# さらにtrainとvalに分割\n",
    "X_train, X_val, y_train, y_val = train_test_split(X_train, y_train, test_size=0.2, random_state=0)"
   ]
  },
  {
   "cell_type": "code",
   "execution_count": 9,
   "metadata": {},
   "outputs": [],
   "source": [
    "# ハイパーパラメータの設定\n",
    "learning_rate = 0.01\n",
    "batch_size = 10\n",
    "num_epochs = 10\n",
    "# n_hidden1 = 50\n",
    "# n_hidden2 = 100\n",
    "n_input = X_train.shape[1]\n",
    "n_samples = X_train.shape[0]\n",
    "n_classes = 1"
   ]
  },
  {
   "cell_type": "code",
   "execution_count": 10,
   "metadata": {},
   "outputs": [
    {
     "name": "stdout",
     "output_type": "stream",
     "text": [
      "WARNING:tensorflow:From /Users/adachi-yuya/.pyenv/versions/anaconda3-5.3.1/lib/python3.7/site-packages/tensorflow/python/ops/resource_variable_ops.py:435: colocate_with (from tensorflow.python.framework.ops) is deprecated and will be removed in a future version.\n",
      "Instructions for updating:\n",
      "Colocations handled automatically by placer.\n",
      "WARNING:tensorflow:From /Users/adachi-yuya/.pyenv/versions/anaconda3-5.3.1/lib/python3.7/site-packages/tensorflow/python/ops/math_ops.py:3066: to_int32 (from tensorflow.python.ops.math_ops) is deprecated and will be removed in a future version.\n",
      "Instructions for updating:\n",
      "Use tf.cast instead.\n",
      "Epoch 1/10\n",
      "64/64 [==============================] - 0s 5ms/step - loss: 7.4730\n",
      "Epoch 2/10\n",
      "64/64 [==============================] - 0s 155us/step - loss: 7.4730\n",
      "Epoch 3/10\n",
      "64/64 [==============================] - 0s 142us/step - loss: 7.4730\n",
      "Epoch 4/10\n",
      "64/64 [==============================] - 0s 147us/step - loss: 7.4730\n",
      "Epoch 5/10\n",
      "64/64 [==============================] - 0s 154us/step - loss: 7.4730\n",
      "Epoch 6/10\n",
      "64/64 [==============================] - 0s 152us/step - loss: 7.4730\n",
      "Epoch 7/10\n",
      "64/64 [==============================] - 0s 172us/step - loss: 7.4730\n",
      "Epoch 8/10\n",
      "64/64 [==============================] - 0s 160us/step - loss: 7.4730\n",
      "Epoch 9/10\n",
      "64/64 [==============================] - 0s 144us/step - loss: 7.4730\n",
      "Epoch 10/10\n",
      "64/64 [==============================] - 0s 151us/step - loss: 7.4730\n"
     ]
    },
    {
     "data": {
      "text/plain": [
       "<keras.callbacks.callbacks.History at 0x7f88edab2048>"
      ]
     },
     "execution_count": 10,
     "metadata": {},
     "output_type": "execute_result"
    }
   ],
   "source": [
    "model = Sequential()\n",
    "model.add(Dense(input_dim=n_input, units=n_classes)) # 入力が4種の特徴、2つに分離\n",
    "model.add(Activation('softmax'))\n",
    "model.compile(loss='binary_crossentropy', optimizer=SGD(lr=learning_rate))\n",
    "model.fit(X_train, y_train, epochs=num_epochs, batch_size=batch_size) # エポック10, ミニバッチ 10"
   ]
  },
  {
   "cell_type": "markdown",
   "metadata": {},
   "source": [
    "### 実行できることまで確認"
   ]
  },
  {
   "cell_type": "markdown",
   "metadata": {},
   "source": [
    "### 2周目として追加学習\n",
    "- 中間層やaccuracy, valデータを追加"
   ]
  },
  {
   "cell_type": "code",
   "execution_count": 11,
   "metadata": {},
   "outputs": [
    {
     "name": "stdout",
     "output_type": "stream",
     "text": [
      "Train on 64 samples, validate on 16 samples\n",
      "Epoch 1/10\n",
      "64/64 [==============================] - 0s 7ms/step - loss: 0.7265 - accuracy: 0.4375 - val_loss: 0.6917 - val_accuracy: 0.6875\n",
      "Epoch 2/10\n",
      "64/64 [==============================] - 0s 209us/step - loss: 0.6896 - accuracy: 0.5625 - val_loss: 0.7185 - val_accuracy: 0.3750\n",
      "Epoch 3/10\n",
      "64/64 [==============================] - 0s 198us/step - loss: 0.6779 - accuracy: 0.5312 - val_loss: 0.7166 - val_accuracy: 0.3750\n",
      "Epoch 4/10\n",
      "64/64 [==============================] - 0s 190us/step - loss: 0.6775 - accuracy: 0.5312 - val_loss: 0.7117 - val_accuracy: 0.3750\n",
      "Epoch 5/10\n",
      "64/64 [==============================] - 0s 196us/step - loss: 0.6704 - accuracy: 0.5625 - val_loss: 0.7149 - val_accuracy: 0.3750\n",
      "Epoch 6/10\n",
      "64/64 [==============================] - 0s 193us/step - loss: 0.6682 - accuracy: 0.5469 - val_loss: 0.6935 - val_accuracy: 0.3750\n",
      "Epoch 7/10\n",
      "64/64 [==============================] - 0s 192us/step - loss: 0.6400 - accuracy: 0.5312 - val_loss: 0.6952 - val_accuracy: 0.3750\n",
      "Epoch 8/10\n",
      "64/64 [==============================] - 0s 189us/step - loss: 0.6360 - accuracy: 0.5312 - val_loss: 0.6905 - val_accuracy: 0.3750\n",
      "Epoch 9/10\n",
      "64/64 [==============================] - 0s 185us/step - loss: 0.6386 - accuracy: 0.5312 - val_loss: 0.6766 - val_accuracy: 0.3750\n",
      "Epoch 10/10\n",
      "64/64 [==============================] - 0s 194us/step - loss: 0.6292 - accuracy: 0.5469 - val_loss: 0.6714 - val_accuracy: 0.4375\n"
     ]
    },
    {
     "data": {
      "text/plain": [
       "<keras.callbacks.callbacks.History at 0x7f88ee0ab6a0>"
      ]
     },
     "execution_count": 11,
     "metadata": {},
     "output_type": "execute_result"
    }
   ],
   "source": [
    "K.clear_session()\n",
    "\n",
    "model = Sequential()\n",
    "model.add(Dense(32, activation='relu', input_dim=n_input))  # 中間層\n",
    "model.add(Dense(input_dim=n_input, units=n_classes)) # 0or1の2つに分離\n",
    "model.add(Activation('sigmoid'))\n",
    "model.compile(loss='binary_crossentropy', optimizer=SGD(lr=learning_rate), metrics=['accuracy'])\n",
    "model.fit(X_train, y_train, validation_data=(X_val, y_val), epochs=num_epochs, batch_size=batch_size) # エポック10, ミニバッチ 10"
   ]
  },
  {
   "cell_type": "markdown",
   "metadata": {},
   "source": [
    "## 【問題4】Iris（多値分類）をKerasで学習\n",
    "TensorFlowによるIrisデータセットに対する3値分類をKerasに書き換えてください。"
   ]
  },
  {
   "cell_type": "code",
   "execution_count": 12,
   "metadata": {},
   "outputs": [],
   "source": [
    "\"\"\"\n",
    "Kerasを使いIrisデータセットを3値分類する\n",
    "☆重要：他クラス分類はワンホットエンコーディングが必要、n_classesはワンホットした分だけ必要。\n",
    "\n",
    "\"\"\"\n",
    "from keras.utils import np_utils\n",
    "\n",
    "# データセットの読み込み\n",
    "dataset_path =\"../Iris.csv\"\n",
    "df = pd.read_csv(dataset_path)\n",
    "# データフレームから条件抽出\n",
    "#########変更############\n",
    "y = df[\"Species\"]\n",
    "X = df.loc[:, [\"SepalLengthCm\", \"SepalWidthCm\", \"PetalLengthCm\", \"PetalWidthCm\"]]\n",
    "y = np.array(y)\n",
    "X = np.array(X)\n",
    "# ラベルを数値に変換\n",
    "#########変更############\n",
    "y[y=='Iris-setosa'] = 0\n",
    "y[y=='Iris-versicolor'] = 1\n",
    "y[y=='Iris-virginica'] = 2\n",
    "y = y.astype(np.int)[:, np.newaxis]\n",
    "\n",
    "# kerasメソッドによるOne-hotエンコーディング\n",
    "y = np_utils.to_categorical(y) # 数値を、位置に変換 [0,1,2] ==> [ [1,0,0],[0,1,0],[0,0,1] ]\n",
    "\n",
    "# trainとtestに分割\n",
    "X_train, X_test, y_train, y_test = train_test_split(X, y, test_size=0.2, random_state=0)\n",
    "# さらにtrainとvalに分割\n",
    "X_train, X_val, y_train, y_val = train_test_split(X_train, y_train, test_size=0.2, random_state=0)"
   ]
  },
  {
   "cell_type": "code",
   "execution_count": 14,
   "metadata": {},
   "outputs": [
    {
     "name": "stdout",
     "output_type": "stream",
     "text": [
      "Epoch 1/10\n",
      "96/96 [==============================] - 0s 3ms/step - loss: 2.4056\n",
      "Epoch 2/10\n",
      "96/96 [==============================] - 0s 169us/step - loss: 1.5910\n",
      "Epoch 3/10\n",
      "96/96 [==============================] - 0s 197us/step - loss: 1.0699\n",
      "Epoch 4/10\n",
      "96/96 [==============================] - 0s 155us/step - loss: 0.8244\n",
      "Epoch 5/10\n",
      "96/96 [==============================] - 0s 154us/step - loss: 0.7419\n",
      "Epoch 6/10\n",
      "96/96 [==============================] - 0s 142us/step - loss: 0.7275\n",
      "Epoch 7/10\n",
      "96/96 [==============================] - 0s 145us/step - loss: 0.7130\n",
      "Epoch 8/10\n",
      "96/96 [==============================] - 0s 150us/step - loss: 0.6866\n",
      "Epoch 9/10\n",
      "96/96 [==============================] - 0s 155us/step - loss: 0.6916\n",
      "Epoch 10/10\n",
      "96/96 [==============================] - 0s 150us/step - loss: 0.6637\n"
     ]
    }
   ],
   "source": [
    "# ハイパーパラメータの設定\n",
    "learning_rate = 0.01\n",
    "batch_size = 10\n",
    "num_epochs = 10\n",
    "n_hidden1 = 32\n",
    "n_hidden2 = 16\n",
    "n_input = X_train.shape[1]\n",
    "n_samples = X_train.shape[0]\n",
    "n_classes = 3\n",
    "\n",
    "model2 = Sequential()\n",
    "model2.add(Dense(input_dim=n_input, units=n_classes))\n",
    "model2.add(Activation('softmax'))\n",
    "model2.compile(loss='categorical_crossentropy', optimizer=SGD(lr=learning_rate))\n",
    "model2.fit(X_train, y_train, epochs=num_epochs, batch_size=batch_size) # エポック10, ミニバッチ 10\n",
    "pred_model2 = model2.predict_classes(X_test, batch_size=10)"
   ]
  },
  {
   "cell_type": "markdown",
   "metadata": {},
   "source": [
    "### 実行できることまで確認"
   ]
  },
  {
   "cell_type": "markdown",
   "metadata": {},
   "source": [
    "### 2周目として追加学習\n",
    "- 中間層やaccuracy, valデータを追加"
   ]
  },
  {
   "cell_type": "code",
   "execution_count": 15,
   "metadata": {},
   "outputs": [
    {
     "name": "stdout",
     "output_type": "stream",
     "text": [
      "Train on 96 samples, validate on 24 samples\n",
      "Epoch 1/10\n",
      "96/96 [==============================] - 0s 4ms/step - loss: 1.1672 - accuracy: 0.3750 - val_loss: 1.0150 - val_accuracy: 0.3750\n",
      "Epoch 2/10\n",
      "96/96 [==============================] - 0s 217us/step - loss: 0.9940 - accuracy: 0.4271 - val_loss: 0.9480 - val_accuracy: 0.6250\n",
      "Epoch 3/10\n",
      "96/96 [==============================] - 0s 263us/step - loss: 0.9326 - accuracy: 0.5833 - val_loss: 0.8763 - val_accuracy: 0.7083\n",
      "Epoch 4/10\n",
      "96/96 [==============================] - 0s 246us/step - loss: 0.8710 - accuracy: 0.7604 - val_loss: 0.8466 - val_accuracy: 0.7083\n",
      "Epoch 5/10\n",
      "96/96 [==============================] - 0s 229us/step - loss: 0.8561 - accuracy: 0.6771 - val_loss: 0.8236 - val_accuracy: 0.7917\n",
      "Epoch 6/10\n",
      "96/96 [==============================] - 0s 243us/step - loss: 0.7877 - accuracy: 0.8333 - val_loss: 0.7571 - val_accuracy: 0.9167\n",
      "Epoch 7/10\n",
      "96/96 [==============================] - 0s 227us/step - loss: 0.7439 - accuracy: 0.7708 - val_loss: 0.7267 - val_accuracy: 0.7083\n",
      "Epoch 8/10\n",
      "96/96 [==============================] - 0s 231us/step - loss: 0.7005 - accuracy: 0.7812 - val_loss: 0.6801 - val_accuracy: 0.7083\n",
      "Epoch 9/10\n",
      "96/96 [==============================] - 0s 207us/step - loss: 0.6638 - accuracy: 0.8125 - val_loss: 0.6529 - val_accuracy: 0.7083\n",
      "Epoch 10/10\n",
      "96/96 [==============================] - 0s 231us/step - loss: 0.6361 - accuracy: 0.7604 - val_loss: 0.6359 - val_accuracy: 0.7083\n"
     ]
    },
    {
     "data": {
      "text/plain": [
       "<keras.callbacks.callbacks.History at 0x7f88ed7a8048>"
      ]
     },
     "execution_count": 15,
     "metadata": {},
     "output_type": "execute_result"
    }
   ],
   "source": [
    "# ハイパーパラメータの設定\n",
    "learning_rate = 0.01\n",
    "batch_size = 10\n",
    "num_epochs = 10\n",
    "n_hidden1 = 32\n",
    "n_hidden2 = 16\n",
    "n_input = X_train.shape[1]\n",
    "n_samples = X_train.shape[0]\n",
    "n_classes = 3\n",
    "\n",
    "K.clear_session()\n",
    "\n",
    "model2 = Sequential()\n",
    "model2.add(Dense(n_hidden1, activation='relu', input_dim=n_input))  # 中間層1\n",
    "model2.add(Dense(n_hidden2, activation='relu'))  # 中間層2\n",
    "model2.add(Dense(input_dim=n_hidden2, units=n_classes)) # 3値分類\n",
    "model2.add(Activation('softmax'))\n",
    "model2.compile(loss='categorical_crossentropy', optimizer=SGD(lr=learning_rate), metrics=['accuracy'])\n",
    "model2.fit(X_train, y_train, validation_data=(X_val, y_val), epochs=num_epochs, batch_size=batch_size) # エポック10, ミニバッチ 10"
   ]
  },
  {
   "cell_type": "markdown",
   "metadata": {},
   "source": [
    "## 【問題5】House PricesをKerasで学習\n",
    "TensorFlowによるHouse Pricesデータセットに対する回帰をKerasに書き換えてください。"
   ]
  },
  {
   "cell_type": "code",
   "execution_count": 16,
   "metadata": {},
   "outputs": [
    {
     "name": "stderr",
     "output_type": "stream",
     "text": [
      "/Users/adachi-yuya/.pyenv/versions/anaconda3-5.3.1/lib/python3.7/site-packages/sklearn/utils/validation.py:475: DataConversionWarning: Data with input dtype int64 was converted to float64 by StandardScaler.\n",
      "  warnings.warn(msg, DataConversionWarning)\n",
      "/Users/adachi-yuya/.pyenv/versions/anaconda3-5.3.1/lib/python3.7/site-packages/sklearn/utils/validation.py:475: DataConversionWarning: Data with input dtype int64 was converted to float64 by StandardScaler.\n",
      "  warnings.warn(msg, DataConversionWarning)\n"
     ]
    }
   ],
   "source": [
    "\"\"\"\n",
    "Kerasを使いHouse Priceの回帰問題\n",
    "\"\"\"\n",
    "# データセットの読み込み\n",
    "dataset_path =\"../train.csv\"\n",
    "df = pd.read_csv(dataset_path)\n",
    "# データフレームから条件抽出\n",
    "# データフレームから条件抽出\n",
    "#########変更############\n",
    "y = df[\"SalePrice\"]\n",
    "X = df.loc[:, [\"GrLivArea\", \"YearBuilt\"]]\n",
    "y = np.array(y)\n",
    "X = np.array(X)\n",
    "y = y.astype(np.int)[:, np.newaxis]\n",
    "\n",
    "#正規化\n",
    "ss = StandardScaler()\n",
    "ss.fit(X)\n",
    "X_scaler = ss.transform(X)\n",
    "\n",
    "# yを対数変換\n",
    "y_log = np.log(y)\n",
    "\n",
    "# trainとtestに分割\n",
    "X_train, X_test, y_train, y_test = train_test_split(X_scaler, y_log, test_size=0.2, random_state=0)\n",
    "# さらにtrainとvalに分割\n",
    "X_train, X_val, y_train, y_val = train_test_split(X_train, y_train, test_size=0.2, random_state=0)"
   ]
  },
  {
   "cell_type": "code",
   "execution_count": 17,
   "metadata": {},
   "outputs": [
    {
     "name": "stdout",
     "output_type": "stream",
     "text": [
      "Epoch 1/10\n",
      "934/934 [==============================] - 0s 193us/step - loss: 134.4240\n",
      "Epoch 2/10\n",
      "934/934 [==============================] - 0s 27us/step - loss: 133.9350\n",
      "Epoch 3/10\n",
      "934/934 [==============================] - 0s 26us/step - loss: 133.4952\n",
      "Epoch 4/10\n",
      "934/934 [==============================] - 0s 28us/step - loss: 133.0671\n",
      "Epoch 5/10\n",
      "934/934 [==============================] - 0s 21us/step - loss: 132.6358\n",
      "Epoch 6/10\n",
      "934/934 [==============================] - 0s 21us/step - loss: 132.1994\n",
      "Epoch 7/10\n",
      "934/934 [==============================] - 0s 21us/step - loss: 131.7686\n",
      "Epoch 8/10\n",
      "934/934 [==============================] - 0s 20us/step - loss: 131.3340\n",
      "Epoch 9/10\n",
      "934/934 [==============================] - 0s 22us/step - loss: 130.8974\n",
      "Epoch 10/10\n",
      "934/934 [==============================] - 0s 23us/step - loss: 130.4625\n"
     ]
    },
    {
     "data": {
      "text/plain": [
       "<keras.callbacks.callbacks.History at 0x7f88efb29c50>"
      ]
     },
     "execution_count": 17,
     "metadata": {},
     "output_type": "execute_result"
    }
   ],
   "source": [
    "# ハイパーパラメータの設定\n",
    "learning_rate = 0.01\n",
    "batch_size = 50\n",
    "num_epochs = 10\n",
    "n_hidden1 = 50\n",
    "n_hidden2 = 100\n",
    "n_input = X_train.shape[1]\n",
    "n_samples = X_train.shape[0]\n",
    "n_classes = 1\n",
    "\n",
    "K.clear_session()\n",
    "\n",
    "model3 = Sequential()\n",
    "model3.add(Dense(input_dim=n_input, units=n_classes)) # 入力が4種の特徴、2つに分離\n",
    "model3.add(Activation('relu'))\n",
    "model3.compile(loss='mse', optimizer='rmsprop')\n",
    "model3.fit(X_train, y_train, epochs=num_epochs, batch_size=batch_size) # エポック10, ミニバッチ 50"
   ]
  },
  {
   "cell_type": "markdown",
   "metadata": {},
   "source": [
    "### 実行できることまで確認"
   ]
  },
  {
   "cell_type": "markdown",
   "metadata": {},
   "source": [
    "### 2周目として追加学習\n",
    "- 中間層とvalデータを追加"
   ]
  },
  {
   "cell_type": "code",
   "execution_count": 18,
   "metadata": {},
   "outputs": [
    {
     "name": "stdout",
     "output_type": "stream",
     "text": [
      "Train on 934 samples, validate on 234 samples\n",
      "Epoch 1/10\n",
      "934/934 [==============================] - 0s 440us/step - loss: 143.0841 - val_loss: 140.3077\n",
      "Epoch 2/10\n",
      "934/934 [==============================] - 0s 33us/step - loss: 139.0267 - val_loss: 135.9439\n",
      "Epoch 3/10\n",
      "934/934 [==============================] - 0s 31us/step - loss: 134.1354 - val_loss: 130.5497\n",
      "Epoch 4/10\n",
      "934/934 [==============================] - 0s 29us/step - loss: 128.1070 - val_loss: 124.0137\n",
      "Epoch 5/10\n",
      "934/934 [==============================] - 0s 30us/step - loss: 121.2765 - val_loss: 117.1270\n",
      "Epoch 6/10\n",
      "934/934 [==============================] - 0s 32us/step - loss: 114.2086 - val_loss: 109.9141\n",
      "Epoch 7/10\n",
      "934/934 [==============================] - 0s 32us/step - loss: 106.8339 - val_loss: 102.3623\n",
      "Epoch 8/10\n",
      "934/934 [==============================] - 0s 30us/step - loss: 99.3183 - val_loss: 94.8537\n",
      "Epoch 9/10\n",
      "934/934 [==============================] - 0s 28us/step - loss: 91.6193 - val_loss: 87.0496\n",
      "Epoch 10/10\n",
      "934/934 [==============================] - 0s 34us/step - loss: 83.7364 - val_loss: 79.1188\n"
     ]
    },
    {
     "data": {
      "text/plain": [
       "<keras.callbacks.callbacks.History at 0x7f88f0904cc0>"
      ]
     },
     "execution_count": 18,
     "metadata": {},
     "output_type": "execute_result"
    }
   ],
   "source": [
    "# ハイパーパラメータの設定\n",
    "learning_rate = 0.01\n",
    "batch_size = 50\n",
    "num_epochs = 10\n",
    "n_hidden1 = 16\n",
    "n_hidden2 = 8\n",
    "n_input = X_train.shape[1]\n",
    "n_samples = X_train.shape[0]\n",
    "n_classes = 1\n",
    "\n",
    "K.clear_session()\n",
    "\n",
    "model3 = Sequential()\n",
    "model3.add(Dense(n_hidden1, activation='relu', input_dim=n_input))  # 中間層1\n",
    "model3.add(Dense(n_hidden2, activation='relu'))  # 中間層2\n",
    "model3.add(Dense(input_dim=n_hidden2, units=n_classes)) # 3値分類\n",
    "model3.add(Activation('relu'))\n",
    "model3.compile(loss='mse', optimizer=\"rmsprop\")\n",
    "model3.fit(X_train, y_train, validation_data=(X_val, y_val), epochs=num_epochs, batch_size=batch_size) # エポック10, ミニバッチ 50"
   ]
  },
  {
   "cell_type": "markdown",
   "metadata": {},
   "source": [
    "## 【問題6】MNISTをKerasで学習\n",
    "TensorFlowによるMNISTデータセットによる画像の多値分類をKerasに書き換えてください。"
   ]
  },
  {
   "cell_type": "code",
   "execution_count": 19,
   "metadata": {},
   "outputs": [],
   "source": [
    "# データセットの読み込みから前処理まで\n",
    "from keras.datasets import mnist\n",
    "(X_train, y_train), (X_test, y_test) = mnist.load_data()\n",
    "\n",
    "X_train = X_train.reshape(-1, 784)\n",
    "X_test = X_test.reshape(-1, 784)\n",
    "\n",
    "X_train = X_train.astype(np.float)\n",
    "X_test = X_test.astype(np.float)\n",
    "X_train /= 255\n",
    "X_test /= 255\n",
    "\n",
    "# kerasメソッドによるOne-hotエンコーディング\n",
    "y_train_one_hot = np_utils.to_categorical(y_train) # 数値を、位置に変換 [0,1,2] ==> [ [1,0,0],[0,1,0],[0,0,1] ]\n",
    "y_test_one_hot = np_utils.to_categorical(y_test) # 数値を、位置に変換 [0,1,2] ==> [ [1,0,0],[0,1,0],[0,0,1] ]\n",
    "\n",
    "# さらにtrainとvalに分割\n",
    "X_train, X_val, y_train_one_hot, y_val_one_hot = train_test_split(X_train, y_train_one_hot, test_size=0.2, random_state=0)\n",
    "    "
   ]
  },
  {
   "cell_type": "code",
   "execution_count": 20,
   "metadata": {},
   "outputs": [
    {
     "name": "stdout",
     "output_type": "stream",
     "text": [
      "Epoch 1/20\n",
      "48000/48000 [==============================] - 2s 34us/step - loss: 0.6141\n",
      "Epoch 2/20\n",
      "48000/48000 [==============================] - 1s 24us/step - loss: 0.3386\n",
      "Epoch 3/20\n",
      "48000/48000 [==============================] - 1s 28us/step - loss: 0.3088\n",
      "Epoch 4/20\n",
      "48000/48000 [==============================] - 1s 28us/step - loss: 0.2943\n",
      "Epoch 5/20\n",
      "48000/48000 [==============================] - 1s 24us/step - loss: 0.2860\n",
      "Epoch 6/20\n",
      "48000/48000 [==============================] - 1s 29us/step - loss: 0.2799\n",
      "Epoch 7/20\n",
      "48000/48000 [==============================] - 1s 30us/step - loss: 0.2753\n",
      "Epoch 8/20\n",
      "48000/48000 [==============================] - 1s 28us/step - loss: 0.2718\n",
      "Epoch 9/20\n",
      "48000/48000 [==============================] - 2s 31us/step - loss: 0.2688\n",
      "Epoch 10/20\n",
      "48000/48000 [==============================] - 1s 31us/step - loss: 0.2666\n",
      "Epoch 11/20\n",
      "48000/48000 [==============================] - 2s 32us/step - loss: 0.2647\n",
      "Epoch 12/20\n",
      "48000/48000 [==============================] - 1s 27us/step - loss: 0.2631\n",
      "Epoch 13/20\n",
      "48000/48000 [==============================] - 1s 30us/step - loss: 0.2616\n",
      "Epoch 14/20\n",
      "48000/48000 [==============================] - 2s 32us/step - loss: 0.2600\n",
      "Epoch 15/20\n",
      "48000/48000 [==============================] - 1s 28us/step - loss: 0.2591\n",
      "Epoch 16/20\n",
      "48000/48000 [==============================] - 1s 31us/step - loss: 0.2582\n",
      "Epoch 17/20\n",
      "48000/48000 [==============================] - 1s 31us/step - loss: 0.2568\n",
      "Epoch 18/20\n",
      "48000/48000 [==============================] - 1s 31us/step - loss: 0.2560\n",
      "Epoch 19/20\n",
      "48000/48000 [==============================] - 1s 27us/step - loss: 0.2555\n",
      "Epoch 20/20\n",
      "48000/48000 [==============================] - 1s 30us/step - loss: 0.2547\n"
     ]
    },
    {
     "data": {
      "text/plain": [
       "<keras.callbacks.callbacks.History at 0x7f88d0d18668>"
      ]
     },
     "execution_count": 20,
     "metadata": {},
     "output_type": "execute_result"
    }
   ],
   "source": [
    "# ハイパーパラメータの設定\n",
    "learning_rate = 0.01\n",
    "batch_size = 100\n",
    "num_epochs = 20\n",
    "n_hidden1 = 400\n",
    "n_hidden2 = 200\n",
    "n_input = X_train.shape[1]\n",
    "n_samples = X_train.shape[0]\n",
    "n_classes = 10   # One-Hotエンコーディングした分\n",
    "\n",
    "K.clear_session()\n",
    "\n",
    "model4 = Sequential()\n",
    "model4.add(Dense(input_dim=n_input, units=n_classes)) # 入力が4種の特徴、2つに分離\n",
    "model4.add(Activation('softmax'))\n",
    "model4.compile(loss='categorical_crossentropy', optimizer='rmsprop')\n",
    "model4.fit(X_train, y_train_one_hot, epochs=num_epochs, batch_size=batch_size) # エポック20, ミニバッチ 100"
   ]
  },
  {
   "cell_type": "markdown",
   "metadata": {},
   "source": [
    "### 実行できることまで確認"
   ]
  },
  {
   "cell_type": "markdown",
   "metadata": {},
   "source": [
    "### 2周目として追加学習\n",
    "- 中間層とacc, valデータを追加"
   ]
  },
  {
   "cell_type": "code",
   "execution_count": 21,
   "metadata": {},
   "outputs": [
    {
     "name": "stdout",
     "output_type": "stream",
     "text": [
      "Train on 48000 samples, validate on 12000 samples\n",
      "Epoch 1/20\n",
      "48000/48000 [==============================] - 6s 120us/step - loss: 0.2477 - accuracy: 0.9239 - val_loss: 0.1256 - val_accuracy: 0.9605\n",
      "Epoch 2/20\n",
      "48000/48000 [==============================] - 5s 114us/step - loss: 0.0951 - accuracy: 0.9703 - val_loss: 0.0908 - val_accuracy: 0.9713\n",
      "Epoch 3/20\n",
      "48000/48000 [==============================] - 6s 116us/step - loss: 0.0632 - accuracy: 0.9809 - val_loss: 0.1002 - val_accuracy: 0.9718\n",
      "Epoch 4/20\n",
      "48000/48000 [==============================] - 5s 111us/step - loss: 0.0447 - accuracy: 0.9859 - val_loss: 0.0751 - val_accuracy: 0.9793\n",
      "Epoch 5/20\n",
      "48000/48000 [==============================] - 6s 117us/step - loss: 0.0328 - accuracy: 0.9899 - val_loss: 0.0932 - val_accuracy: 0.9748\n",
      "Epoch 6/20\n",
      "48000/48000 [==============================] - 5s 115us/step - loss: 0.0258 - accuracy: 0.9918 - val_loss: 0.0913 - val_accuracy: 0.9763\n",
      "Epoch 7/20\n",
      "48000/48000 [==============================] - 6s 118us/step - loss: 0.0189 - accuracy: 0.9936 - val_loss: 0.0922 - val_accuracy: 0.9793\n",
      "Epoch 8/20\n",
      "48000/48000 [==============================] - 5s 112us/step - loss: 0.0163 - accuracy: 0.9949 - val_loss: 0.0917 - val_accuracy: 0.9810\n",
      "Epoch 9/20\n",
      "48000/48000 [==============================] - 6s 117us/step - loss: 0.0134 - accuracy: 0.9958 - val_loss: 0.1069 - val_accuracy: 0.9789\n",
      "Epoch 10/20\n",
      "48000/48000 [==============================] - 6s 116us/step - loss: 0.0100 - accuracy: 0.9967 - val_loss: 0.1168 - val_accuracy: 0.9792\n",
      "Epoch 11/20\n",
      "48000/48000 [==============================] - 6s 118us/step - loss: 0.0083 - accuracy: 0.9973 - val_loss: 0.1041 - val_accuracy: 0.9822\n",
      "Epoch 12/20\n",
      "48000/48000 [==============================] - 6s 119us/step - loss: 0.0086 - accuracy: 0.9975 - val_loss: 0.1115 - val_accuracy: 0.9813\n",
      "Epoch 13/20\n",
      "48000/48000 [==============================] - 6s 121us/step - loss: 0.0072 - accuracy: 0.9977 - val_loss: 0.1192 - val_accuracy: 0.9812\n",
      "Epoch 14/20\n",
      "48000/48000 [==============================] - 5s 114us/step - loss: 0.0068 - accuracy: 0.9979 - val_loss: 0.1224 - val_accuracy: 0.9806\n",
      "Epoch 15/20\n",
      "48000/48000 [==============================] - 6s 116us/step - loss: 0.0064 - accuracy: 0.9980 - val_loss: 0.1240 - val_accuracy: 0.9803\n",
      "Epoch 16/20\n",
      "48000/48000 [==============================] - 6s 118us/step - loss: 0.0051 - accuracy: 0.9985 - val_loss: 0.1383 - val_accuracy: 0.9803\n",
      "Epoch 17/20\n",
      "48000/48000 [==============================] - 6s 115us/step - loss: 0.0045 - accuracy: 0.9987 - val_loss: 0.1359 - val_accuracy: 0.9803\n",
      "Epoch 18/20\n",
      "48000/48000 [==============================] - 6s 119us/step - loss: 0.0037 - accuracy: 0.9990 - val_loss: 0.1389 - val_accuracy: 0.9788\n",
      "Epoch 19/20\n",
      "48000/48000 [==============================] - 5s 114us/step - loss: 0.0045 - accuracy: 0.9987 - val_loss: 0.1378 - val_accuracy: 0.9811\n",
      "Epoch 20/20\n",
      "48000/48000 [==============================] - 6s 118us/step - loss: 0.0034 - accuracy: 0.9989 - val_loss: 0.1340 - val_accuracy: 0.9833\n"
     ]
    },
    {
     "data": {
      "text/plain": [
       "<keras.callbacks.callbacks.History at 0x7f88a762c438>"
      ]
     },
     "execution_count": 21,
     "metadata": {},
     "output_type": "execute_result"
    }
   ],
   "source": [
    "# ハイパーパラメータの設定\n",
    "learning_rate = 0.01\n",
    "batch_size = 100\n",
    "num_epochs = 20\n",
    "n_hidden1 = 400\n",
    "n_hidden2 = 200\n",
    "n_input = X_train.shape[1]\n",
    "n_samples = X_train.shape[0]\n",
    "n_classes = 10   # One-Hotエンコーディングした分\n",
    "\n",
    "K.clear_session()\n",
    "\n",
    "model4 = Sequential()\n",
    "model4.add(Dense(n_hidden1, activation='relu', input_dim=n_input))  # 中間層1\n",
    "model4.add(Dense(n_hidden2, activation='relu'))  # 中間層2\n",
    "model4.add(Dense(input_dim=n_hidden2, units=n_classes)) # 3値分類\n",
    "model4.add(Activation('softmax'))\n",
    "model4.compile(loss='categorical_crossentropy', optimizer=\"rmsprop\", metrics=['accuracy'])\n",
    "model4.fit(X_train, y_train_one_hot, validation_data=(X_val, y_val_one_hot), epochs=num_epochs, batch_size=batch_size) # エポック20, ミニバッチ 100"
   ]
  },
  {
   "cell_type": "markdown",
   "metadata": {},
   "source": [
    "## 【問題7】（アドバンス課題）PyTorchへの書き換え\n",
    "4種類の問題をPyTorchに書き換えてください。"
   ]
  },
  {
   "cell_type": "markdown",
   "metadata": {},
   "source": [
    "## 【問題8】（アドバンス課題）フレームワークの比較\n",
    "それぞれのフレームワークにはどのような違いがあるかをまとめてください。\n",
    "\n",
    "\n",
    "《視点例》\n",
    "\n",
    "\n",
    "- 計算速度\n",
    "- コードの行数・可読性\n",
    "- 用意されている機能"
   ]
  },
  {
   "cell_type": "markdown",
   "metadata": {},
   "source": [
    "### 簡単に調査した内容\n",
    "- keras\n",
    "  - 所感) 現段階では個人的にkerasの方が使いやすい印象を持っている。Pytorchの調査量不足もあるが。\n",
    "  - メリット) 書きやすい。compileやfitなどのメソッドにおいて引数指定で簡単に情報が取得できる点が良い。\n",
    "  \n",
    "- pytorch\n",
    "  - 所感) fitメソッドがないのがsklearnやkerasと比べ劣る。クラスを作らないと走らないのは難しい印象。\n",
    "  - メリット) numpyに似たメソッドがあるのは良い。実務的に想像するに、どのフレームワークを使っていても、デバック（テスト）環境を作りたい時があるはずで、pytorchはその点が楽。numpyをインストールしていない環境等でもpytorchで一気通貫で実行できそう。\n",
    "  - デメリット) fitまでのlayer・activation・optimizerなどの構築が大変。"
   ]
  },
  {
   "cell_type": "code",
   "execution_count": null,
   "metadata": {},
   "outputs": [],
   "source": []
  }
 ],
 "metadata": {
  "kernelspec": {
   "display_name": "Python 3",
   "language": "python",
   "name": "python3"
  },
  "language_info": {
   "codemirror_mode": {
    "name": "ipython",
    "version": 3
   },
   "file_extension": ".py",
   "mimetype": "text/x-python",
   "name": "python",
   "nbconvert_exporter": "python",
   "pygments_lexer": "ipython3",
   "version": "3.7.2"
  },
  "nbTranslate": {
   "displayLangs": [
    "*"
   ],
   "hotkey": "alt-t",
   "langInMainMenu": true,
   "sourceLang": "en",
   "targetLang": "fr",
   "useGoogleTranslate": true
  },
  "toc": {
   "base_numbering": 1,
   "nav_menu": {},
   "number_sections": true,
   "sideBar": true,
   "skip_h1_title": false,
   "title_cell": "Table of Contents",
   "title_sidebar": "Contents",
   "toc_cell": false,
   "toc_position": {},
   "toc_section_display": true,
   "toc_window_display": true
  },
  "varInspector": {
   "cols": {
    "lenName": 16,
    "lenType": 16,
    "lenVar": 40
   },
   "kernels_config": {
    "python": {
     "delete_cmd_postfix": "",
     "delete_cmd_prefix": "del ",
     "library": "var_list.py",
     "varRefreshCmd": "print(var_dic_list())"
    },
    "r": {
     "delete_cmd_postfix": ") ",
     "delete_cmd_prefix": "rm(",
     "library": "var_list.r",
     "varRefreshCmd": "cat(var_dic_list()) "
    }
   },
   "position": {
    "height": "594.492px",
    "left": "2030px",
    "right": "20px",
    "top": "120px",
    "width": "350px"
   },
   "types_to_exclude": [
    "module",
    "function",
    "builtin_function_or_method",
    "instance",
    "_Feature"
   ],
   "window_display": true
  }
 },
 "nbformat": 4,
 "nbformat_minor": 2
}
